{
 "cells": [
  {
   "cell_type": "markdown",
   "id": "9e4a9153",
   "metadata": {},
   "source": [
    "# Public Transportation Transaction Transjakarta"
   ]
  },
  {
   "cell_type": "markdown",
   "id": "e50d9fa6",
   "metadata": {},
   "source": [
    "## Latar Belakang dan Rumusan Masalah"
   ]
  },
  {
   "cell_type": "markdown",
   "id": "fd12ced9",
   "metadata": {},
   "source": [
    "### Latar Belakang:\n",
    "\n",
    "Transjakarta, sebagai sistem transportasi publik terbesar di DKI Jakarta, memiliki peran yang sangat krusial dalam menunjang aktivitas harian masyarakat perkotaan. Dengan cakupan jaringan yang terus berkembang, peningkatan jumlah armada, dan penambahan koridor serta rute baru, jumlah penumpang Transjakarta terus mengalami peningkatan dari tahun ke tahun. Seiring dengan hal tersebut, tantangan dalam pengelolaan operasional dan pelayanan publik pun semakin kompleks.\n",
    "\n",
    "Salah satu aset yang sangat berharga namun seringkali belum dimanfaatkan secara optimal adalah data perjalanan penumpang yang terekam secara digital melalui sistem tap-in dan tap-out. Setiap transaksi tap kartu elektronik mencatat berbagai informasi penting seperti waktu naik dan turun, titik pemberangkatan dan tujuan (berbasis koordinat geografis), rute atau koridor yang digunakan, serta nominal pembayaran. Informasi ini menyimpan potensi besar untuk dianalisis guna mendukung pengambilan keputusan yang lebih tepat dan berbasis data.\n",
    "\n",
    "Melalui pemanfaatan data transaksi ini, kita dapat mengidentifikasi berbagai pola perjalanan penumpang, seperti waktu-waktu sibuk, rute paling padat, segmentasi pengguna berdasarkan usia atau metode pembayaran, dan tingkat kepatuhan terhadap prosedur tap-in/tap-out. Selain itu, data ini juga dapat digunakan untuk mengevaluasi efisiensi operasional rute tertentu, meninjau efektivitas tarif, serta merancang strategi peningkatan layanan yang lebih responsif terhadap kebutuhan pengguna.\n",
    "\n",
    "Sayangnya, seperti halnya data besar pada umumnya, tidak semua informasi tercatat dengan lengkap dan bersih. Terdapat sejumlah transaksi yang tidak memiliki catatan tap-out atau data lokasi yang tidak lengkap. Ketidaksempurnaan ini dapat menjadi tantangan dalam analisis, namun sekaligus membuka peluang untuk melakukan data cleaning, imputasi, serta eksplorasi lebih dalam terhadap perilaku pengguna.\n",
    "\n",
    "Melalui proyek ini, dilakukan eksplorasi dan analisis mendalam terhadap data transaksi penumpang Transjakarta, dengan tujuan utama untuk menggali insight yang bermanfaat bagi peningkatan kualitas layanan, efisiensi operasional, serta pengalaman pengguna secara keseluruhan. Dengan analisis yang tepat, data perjalanan ini tidak hanya menjadi arsip digital semata, tetapi juga menjadi dasar yang kuat untuk membangun sistem transportasi publik yang lebih cerdas, inklusif, dan berkelanjutan di masa depan.\n"
   ]
  },
  {
   "cell_type": "markdown",
   "id": "b0bdf93c",
   "metadata": {},
   "source": [
    "### Rumusan Masalah\n",
    "\n",
    "Adapun rumusan masalah yang diangkar dari pengerjaan data ini adalah:\n",
    "1. Apakah ada perbedaan distribusi nilai payAmount antara transaksi dengan dan tanpa tapOutTime?\n",
    "\n",
    "2. Seberapa besar pengaruh keberadaan tapOutTime terhadap nilai payAmount?\n",
    "\n",
    "3. Bagaimana distribusi usia pengguna layanan TransJakarta berdasarkan kelompok usia?\n",
    "\n",
    "4. Apa yang dapat disimpulkan dari data transaksi terkait perilaku pengguna"
   ]
  },
  {
   "cell_type": "markdown",
   "id": "fc63e1a6",
   "metadata": {},
   "source": [
    "### StakeHolder\n",
    "\n",
    "1. Manajemen Transjakarta\n",
    "\n",
    "Manajemen Transjakarta memegang peran sentral sebagai pengambil keputusan strategis dan operasional. Mereka menjadi pihak utama yang bertanggung jawab atas kebijakan yang diambil. Hasil analisis data sangat penting untuk membantu manajemen dalam mengenali permasalahan, menyusun strategi operasional yang lebih efisien, serta meningkatkan kualitas layanan bagi pengguna.\n",
    "\n",
    "2. Tim Pemasaran Transjakarta\n",
    "\n",
    "Tim pemasaran memiliki tugas utama untuk merancang dan menjalankan strategi yang dapat meningkatkan kesadaran masyarakat terhadap layanan Transjakarta. Mereka juga bertanggung jawab mendorong lebih banyak orang untuk menggunakan layanan ini, sekaligus berkontribusi terhadap peningkatan pendapatan perusahaan.\n",
    "\n",
    "3. Pengguna Layanan Transjakarta\n",
    "\n",
    "Pengguna merupakan inti dari seluruh layanan Transjakarta. Kepuasan dan kebutuhan mereka menjadi tolok ukur keberhasilan berbagai strategi, termasuk pemasaran. Oleh karena itu, sangat penting bagi tim pemasaran untuk benar-benar memahami kebiasaan, preferensi, dan harapan para pengguna agar bisa menyusun strategi yang tepat sasaran dan berdampak positif."
   ]
  },
  {
   "cell_type": "markdown",
   "id": "1a14a49a",
   "metadata": {},
   "source": [
    "## Data Understanding"
   ]
  },
  {
   "cell_type": "markdown",
   "id": "d50e23e5",
   "metadata": {},
   "source": [
    "Langkah awal ini penting dilakukan untuk memahami struktur dan karakteristik dataset secara menyeluruh sebelum melanjutkan ke tahap analisis. Melalui proses ini, kita juga dapat mengidentifikasi potensi permasalahan atau kejanggalan dalam data, sehingga dapat dirumuskan langkah-langkah penanganan yang tepat pada tahap selanjutnya, yaitu Data Cleaning.\n",
    "\n",
    "Berjumlahkan 22 Kolom, berikut penjelasan masing-masing kolom nya\n",
    "\n",
    "* `transID`: Merupakan identifikasi unik untuk setiap transaksi yang terjadi dalam sistem.\n",
    "\n",
    "* `payCardID`: Kode identitas khusus yang menunjukkan kartu elektronik yang digunakan oleh penumpang saat transaksi.\n",
    "\n",
    "* `payCardBank`: Nama institusi perbankan yang mengeluarkan kartu pembayaran yang digunakan oleh penumpang.\n",
    "\n",
    "* `payCardName`: Nama pemilik kartu sebagaimana tercatat dalam sistem, biasanya sesuai dengan data kepemilikan kartu.\n",
    "\n",
    "* `payCardSex`: Informasi jenis kelamin dari pemilik kartu (misalnya: laki-laki atau perempuan).\n",
    "\n",
    "* `payCardBirthDate`: Tahun kelahiran dari pemegang kartu, digunakan untuk mengelompokkan pengguna berdasarkan usia.\n",
    "\n",
    "* `corridorID`: Nomor identifikasi dari koridor atau jalur Transjakarta yang digunakan dalam perjalanan.\n",
    "\n",
    "* `corridorName`: Nama dari koridor atau rute yang dilalui, biasanya mencakup nama halte awal dan akhir.\n",
    "\n",
    "* `direction`: Arah perjalanan dalam rute, dengan nilai 0 menandakan arah pergi dan 1 untuk arah pulang.\n",
    "\n",
    "* `tapInStops`: Kode identifikasi halte tempat penumpang pertama kali masuk atau melakukan tap-in.\n",
    "\n",
    "* `tapInStopsName`: Nama halte di mana penumpang memulai perjalanannya atau melakukan tap-in.\n",
    "\n",
    "* `tapInStopsLat`: Koordinat lintang (latitude) lokasi halte tempat penumpang tap-in.\n",
    "\n",
    "* `tapInStopsLon`: Koordinat bujur (longitude) lokasi halte tempat penumpang tap-in.\n",
    "\n",
    "* `stopStartSeq`: Urutan halte awal dalam rute perjalanan sesuai dengan jalur koridor yang digunakan.\n",
    "\n",
    "* `tapInTime`: Waktu dan tanggal saat penumpang melakukan tap-in di halte keberangkatan.\n",
    "\n",
    "* `tapOutStops`: Kode halte tempat penumpang keluar atau menyelesaikan perjalanan dengan tap-out.\n",
    "\n",
    "* `tapOutStopsName`: Nama halte tujuan atau tempat penumpang melakukan tap-out.\n",
    "\n",
    "* `tapOutStopsLat`: Koordinat lintang dari halte tempat penumpang menyelesaikan perjalanan.\n",
    "\n",
    "* `tapOutStopsLon`: Koordinat bujur dari halte tap-out penumpang.\n",
    "\n",
    "* `stopEndSeq`: Posisi atau urutan halte akhir dalam rute, berdasarkan alur perjalanan koridor.\n",
    "\n",
    "* `tapOutTime`: Waktu dan tanggal saat penumpang melakukan tap-out di halte tujuan.\n",
    "\n",
    "* `payAmount`: Besarnya biaya yang dibayarkan penumpang untuk perjalanan tersebut; bisa bernilai nol untuk perjalanan gratis."
   ]
  },
  {
   "cell_type": "markdown",
   "id": "738e35f6",
   "metadata": {},
   "source": [
    "Yang pertama kali kita harus lakukan ada load dataset yang akan kita gunakan"
   ]
  },
  {
   "cell_type": "code",
   "execution_count": 1,
   "id": "add04c44",
   "metadata": {},
   "outputs": [],
   "source": [
    "# Import data\n",
    "\n",
    "import pandas as pd\n",
    "import numpy as np\n",
    "import matplotlib.pyplot as plt\n",
    "import seaborn as sns\n",
    "\n",
    "# Import Database\n",
    "df =pd.read_csv('Transjakarta.csv')"
   ]
  },
  {
   "cell_type": "markdown",
   "id": "bd063152",
   "metadata": {},
   "source": [
    "Lalu kita lihat 5 data teratas"
   ]
  },
  {
   "cell_type": "code",
   "execution_count": 2,
   "id": "de916c8e",
   "metadata": {},
   "outputs": [
    {
     "data": {
      "text/html": [
       "<div>\n",
       "<style scoped>\n",
       "    .dataframe tbody tr th:only-of-type {\n",
       "        vertical-align: middle;\n",
       "    }\n",
       "\n",
       "    .dataframe tbody tr th {\n",
       "        vertical-align: top;\n",
       "    }\n",
       "\n",
       "    .dataframe thead th {\n",
       "        text-align: right;\n",
       "    }\n",
       "</style>\n",
       "<table border=\"1\" class=\"dataframe\">\n",
       "  <thead>\n",
       "    <tr style=\"text-align: right;\">\n",
       "      <th></th>\n",
       "      <th>transID</th>\n",
       "      <th>payCardID</th>\n",
       "      <th>payCardBank</th>\n",
       "      <th>payCardName</th>\n",
       "      <th>payCardSex</th>\n",
       "      <th>payCardBirthDate</th>\n",
       "      <th>corridorID</th>\n",
       "      <th>corridorName</th>\n",
       "      <th>direction</th>\n",
       "      <th>tapInStops</th>\n",
       "      <th>...</th>\n",
       "      <th>tapInStopsLon</th>\n",
       "      <th>stopStartSeq</th>\n",
       "      <th>tapInTime</th>\n",
       "      <th>tapOutStops</th>\n",
       "      <th>tapOutStopsName</th>\n",
       "      <th>tapOutStopsLat</th>\n",
       "      <th>tapOutStopsLon</th>\n",
       "      <th>stopEndSeq</th>\n",
       "      <th>tapOutTime</th>\n",
       "      <th>payAmount</th>\n",
       "    </tr>\n",
       "  </thead>\n",
       "  <tbody>\n",
       "    <tr>\n",
       "      <th>0</th>\n",
       "      <td>EIIW227B8L34VB</td>\n",
       "      <td>180062659848800</td>\n",
       "      <td>emoney</td>\n",
       "      <td>Bajragin Usada</td>\n",
       "      <td>M</td>\n",
       "      <td>2008</td>\n",
       "      <td>5</td>\n",
       "      <td>Matraman Baru - Ancol</td>\n",
       "      <td>1.0</td>\n",
       "      <td>P00142</td>\n",
       "      <td>...</td>\n",
       "      <td>106.84402</td>\n",
       "      <td>7</td>\n",
       "      <td>2023-04-03 05:21:44</td>\n",
       "      <td>P00253</td>\n",
       "      <td>Tegalan</td>\n",
       "      <td>-6.203101</td>\n",
       "      <td>106.85715</td>\n",
       "      <td>12.0</td>\n",
       "      <td>2023-04-03 06:00:53</td>\n",
       "      <td>3500.0</td>\n",
       "    </tr>\n",
       "    <tr>\n",
       "      <th>1</th>\n",
       "      <td>LGXO740D2N47GZ</td>\n",
       "      <td>4885331907664776</td>\n",
       "      <td>dki</td>\n",
       "      <td>Gandi Widodo</td>\n",
       "      <td>F</td>\n",
       "      <td>1997</td>\n",
       "      <td>6C</td>\n",
       "      <td>Stasiun Tebet - Karet via Patra Kuningan</td>\n",
       "      <td>0.0</td>\n",
       "      <td>B01963P</td>\n",
       "      <td>...</td>\n",
       "      <td>106.83302</td>\n",
       "      <td>13</td>\n",
       "      <td>2023-04-03 05:42:44</td>\n",
       "      <td>B03307P</td>\n",
       "      <td>Sampoerna Strategic</td>\n",
       "      <td>-6.217152</td>\n",
       "      <td>106.81892</td>\n",
       "      <td>21.0</td>\n",
       "      <td>2023-04-03 06:40:01</td>\n",
       "      <td>3500.0</td>\n",
       "    </tr>\n",
       "    <tr>\n",
       "      <th>2</th>\n",
       "      <td>DJWR385V2U57TO</td>\n",
       "      <td>4996225095064169</td>\n",
       "      <td>dki</td>\n",
       "      <td>Emong Wastuti</td>\n",
       "      <td>F</td>\n",
       "      <td>1992</td>\n",
       "      <td>R1A</td>\n",
       "      <td>Pantai Maju - Kota</td>\n",
       "      <td>0.0</td>\n",
       "      <td>B00499P</td>\n",
       "      <td>...</td>\n",
       "      <td>106.81435</td>\n",
       "      <td>38</td>\n",
       "      <td>2023-04-03 05:59:06</td>\n",
       "      <td>B04962P</td>\n",
       "      <td>Simpang Kunir Kemukus</td>\n",
       "      <td>-6.133731</td>\n",
       "      <td>106.81475</td>\n",
       "      <td>39.0</td>\n",
       "      <td>2023-04-03 06:50:55</td>\n",
       "      <td>3500.0</td>\n",
       "    </tr>\n",
       "    <tr>\n",
       "      <th>3</th>\n",
       "      <td>JTUZ800U7C86EH</td>\n",
       "      <td>639099174703</td>\n",
       "      <td>flazz</td>\n",
       "      <td>Surya Wacana</td>\n",
       "      <td>F</td>\n",
       "      <td>1978</td>\n",
       "      <td>11D</td>\n",
       "      <td>Pulo Gebang - Pulo Gadung 2 via PIK</td>\n",
       "      <td>0.0</td>\n",
       "      <td>B05587P</td>\n",
       "      <td>...</td>\n",
       "      <td>106.93526</td>\n",
       "      <td>23</td>\n",
       "      <td>2023-04-03 05:44:51</td>\n",
       "      <td>B03090P</td>\n",
       "      <td>Raya Penggilingan</td>\n",
       "      <td>-6.183068</td>\n",
       "      <td>106.93194</td>\n",
       "      <td>29.0</td>\n",
       "      <td>2023-04-03 06:28:16</td>\n",
       "      <td>3500.0</td>\n",
       "    </tr>\n",
       "    <tr>\n",
       "      <th>4</th>\n",
       "      <td>VMLO535V7F95NJ</td>\n",
       "      <td>570928206772</td>\n",
       "      <td>flazz</td>\n",
       "      <td>Embuh Mardhiyah</td>\n",
       "      <td>M</td>\n",
       "      <td>1982</td>\n",
       "      <td>12</td>\n",
       "      <td>Tanjung Priok - Pluit</td>\n",
       "      <td>0.0</td>\n",
       "      <td>P00239</td>\n",
       "      <td>...</td>\n",
       "      <td>106.88900</td>\n",
       "      <td>5</td>\n",
       "      <td>2023-04-03 06:17:35</td>\n",
       "      <td>P00098</td>\n",
       "      <td>Kali Besar Barat</td>\n",
       "      <td>-6.135355</td>\n",
       "      <td>106.81143</td>\n",
       "      <td>15.0</td>\n",
       "      <td>2023-04-03 06:57:03</td>\n",
       "      <td>3500.0</td>\n",
       "    </tr>\n",
       "  </tbody>\n",
       "</table>\n",
       "<p>5 rows × 22 columns</p>\n",
       "</div>"
      ],
      "text/plain": [
       "          transID         payCardID payCardBank      payCardName payCardSex  \\\n",
       "0  EIIW227B8L34VB   180062659848800      emoney   Bajragin Usada          M   \n",
       "1  LGXO740D2N47GZ  4885331907664776         dki     Gandi Widodo          F   \n",
       "2  DJWR385V2U57TO  4996225095064169         dki    Emong Wastuti          F   \n",
       "3  JTUZ800U7C86EH      639099174703       flazz     Surya Wacana          F   \n",
       "4  VMLO535V7F95NJ      570928206772       flazz  Embuh Mardhiyah          M   \n",
       "\n",
       "   payCardBirthDate corridorID                              corridorName  \\\n",
       "0              2008          5                     Matraman Baru - Ancol   \n",
       "1              1997         6C  Stasiun Tebet - Karet via Patra Kuningan   \n",
       "2              1992        R1A                        Pantai Maju - Kota   \n",
       "3              1978        11D       Pulo Gebang - Pulo Gadung 2 via PIK   \n",
       "4              1982         12                     Tanjung Priok - Pluit   \n",
       "\n",
       "   direction tapInStops  ... tapInStopsLon  stopStartSeq            tapInTime  \\\n",
       "0        1.0     P00142  ...     106.84402             7  2023-04-03 05:21:44   \n",
       "1        0.0    B01963P  ...     106.83302            13  2023-04-03 05:42:44   \n",
       "2        0.0    B00499P  ...     106.81435            38  2023-04-03 05:59:06   \n",
       "3        0.0    B05587P  ...     106.93526            23  2023-04-03 05:44:51   \n",
       "4        0.0     P00239  ...     106.88900             5  2023-04-03 06:17:35   \n",
       "\n",
       "   tapOutStops        tapOutStopsName tapOutStopsLat tapOutStopsLon  \\\n",
       "0       P00253                Tegalan      -6.203101      106.85715   \n",
       "1      B03307P    Sampoerna Strategic      -6.217152      106.81892   \n",
       "2      B04962P  Simpang Kunir Kemukus      -6.133731      106.81475   \n",
       "3      B03090P      Raya Penggilingan      -6.183068      106.93194   \n",
       "4       P00098       Kali Besar Barat      -6.135355      106.81143   \n",
       "\n",
       "   stopEndSeq           tapOutTime  payAmount  \n",
       "0        12.0  2023-04-03 06:00:53     3500.0  \n",
       "1        21.0  2023-04-03 06:40:01     3500.0  \n",
       "2        39.0  2023-04-03 06:50:55     3500.0  \n",
       "3        29.0  2023-04-03 06:28:16     3500.0  \n",
       "4        15.0  2023-04-03 06:57:03     3500.0  \n",
       "\n",
       "[5 rows x 22 columns]"
      ]
     },
     "execution_count": 2,
     "metadata": {},
     "output_type": "execute_result"
    }
   ],
   "source": [
    "df.head()"
   ]
  },
  {
   "cell_type": "markdown",
   "id": "cc13fe2d",
   "metadata": {},
   "source": [
    "Kita juga perlu melihat info tipe data yang kita gunakan, maka kita akan lakukan codingan berikut"
   ]
  },
  {
   "cell_type": "code",
   "execution_count": 3,
   "id": "77864258",
   "metadata": {},
   "outputs": [
    {
     "name": "stdout",
     "output_type": "stream",
     "text": [
      "<class 'pandas.core.frame.DataFrame'>\n",
      "RangeIndex: 37900 entries, 0 to 37899\n",
      "Data columns (total 22 columns):\n",
      " #   Column            Non-Null Count  Dtype  \n",
      "---  ------            --------------  -----  \n",
      " 0   transID           37900 non-null  object \n",
      " 1   payCardID         37900 non-null  int64  \n",
      " 2   payCardBank       37900 non-null  object \n",
      " 3   payCardName       37900 non-null  object \n",
      " 4   payCardSex        37900 non-null  object \n",
      " 5   payCardBirthDate  37900 non-null  int64  \n",
      " 6   corridorID        36643 non-null  object \n",
      " 7   corridorName      35970 non-null  object \n",
      " 8   direction         37900 non-null  float64\n",
      " 9   tapInStops        36687 non-null  object \n",
      " 10  tapInStopsName    37900 non-null  object \n",
      " 11  tapInStopsLat     37900 non-null  float64\n",
      " 12  tapInStopsLon     37900 non-null  float64\n",
      " 13  stopStartSeq      37900 non-null  int64  \n",
      " 14  tapInTime         37900 non-null  object \n",
      " 15  tapOutStops       35611 non-null  object \n",
      " 16  tapOutStopsName   36556 non-null  object \n",
      " 17  tapOutStopsLat    36556 non-null  float64\n",
      " 18  tapOutStopsLon    36556 non-null  float64\n",
      " 19  stopEndSeq        36556 non-null  float64\n",
      " 20  tapOutTime        36556 non-null  object \n",
      " 21  payAmount         36893 non-null  float64\n",
      "dtypes: float64(7), int64(3), object(12)\n",
      "memory usage: 6.4+ MB\n"
     ]
    }
   ],
   "source": [
    "df.info()"
   ]
  },
  {
   "cell_type": "markdown",
   "id": "b299d1e7",
   "metadata": {},
   "source": [
    "Dapat dilihat bahwa terdapat 37.900 data dan 22 kolom yang dimiliki dataset tersebut"
   ]
  },
  {
   "cell_type": "markdown",
   "id": "7764cf53",
   "metadata": {},
   "source": [
    "Berikut adalah informasi statistik deskriptif secara umum untuk file CSV original kita yang masih kotor :"
   ]
  },
  {
   "cell_type": "code",
   "execution_count": 4,
   "id": "b97ada71",
   "metadata": {},
   "outputs": [
    {
     "data": {
      "text/html": [
       "<div>\n",
       "<style scoped>\n",
       "    .dataframe tbody tr th:only-of-type {\n",
       "        vertical-align: middle;\n",
       "    }\n",
       "\n",
       "    .dataframe tbody tr th {\n",
       "        vertical-align: top;\n",
       "    }\n",
       "\n",
       "    .dataframe thead th {\n",
       "        text-align: right;\n",
       "    }\n",
       "</style>\n",
       "<table border=\"1\" class=\"dataframe\">\n",
       "  <thead>\n",
       "    <tr style=\"text-align: right;\">\n",
       "      <th></th>\n",
       "      <th>payCardID</th>\n",
       "      <th>payCardBirthDate</th>\n",
       "      <th>direction</th>\n",
       "      <th>tapInStopsLat</th>\n",
       "      <th>tapInStopsLon</th>\n",
       "      <th>stopStartSeq</th>\n",
       "      <th>tapOutStopsLat</th>\n",
       "      <th>tapOutStopsLon</th>\n",
       "      <th>stopEndSeq</th>\n",
       "      <th>payAmount</th>\n",
       "    </tr>\n",
       "  </thead>\n",
       "  <tbody>\n",
       "    <tr>\n",
       "      <th>count</th>\n",
       "      <td>3.790000e+04</td>\n",
       "      <td>37900.000000</td>\n",
       "      <td>37900.000000</td>\n",
       "      <td>37900.000000</td>\n",
       "      <td>37900.000000</td>\n",
       "      <td>37900.000000</td>\n",
       "      <td>36556.000000</td>\n",
       "      <td>36556.000000</td>\n",
       "      <td>36556.000000</td>\n",
       "      <td>36893.000000</td>\n",
       "    </tr>\n",
       "    <tr>\n",
       "      <th>mean</th>\n",
       "      <td>4.250060e+17</td>\n",
       "      <td>1990.089314</td>\n",
       "      <td>0.500633</td>\n",
       "      <td>-6.214838</td>\n",
       "      <td>106.841554</td>\n",
       "      <td>13.572480</td>\n",
       "      <td>-6.214651</td>\n",
       "      <td>106.841233</td>\n",
       "      <td>21.219909</td>\n",
       "      <td>2699.712683</td>\n",
       "    </tr>\n",
       "    <tr>\n",
       "      <th>std</th>\n",
       "      <td>1.321699e+18</td>\n",
       "      <td>13.051482</td>\n",
       "      <td>0.500006</td>\n",
       "      <td>0.057911</td>\n",
       "      <td>0.060369</td>\n",
       "      <td>12.237623</td>\n",
       "      <td>0.059022</td>\n",
       "      <td>0.060999</td>\n",
       "      <td>13.800689</td>\n",
       "      <td>4212.225592</td>\n",
       "    </tr>\n",
       "    <tr>\n",
       "      <th>min</th>\n",
       "      <td>6.040368e+10</td>\n",
       "      <td>1946.000000</td>\n",
       "      <td>0.000000</td>\n",
       "      <td>-6.394973</td>\n",
       "      <td>106.614730</td>\n",
       "      <td>0.000000</td>\n",
       "      <td>-6.394973</td>\n",
       "      <td>106.614730</td>\n",
       "      <td>1.000000</td>\n",
       "      <td>0.000000</td>\n",
       "    </tr>\n",
       "    <tr>\n",
       "      <th>25%</th>\n",
       "      <td>1.800442e+14</td>\n",
       "      <td>1982.000000</td>\n",
       "      <td>0.000000</td>\n",
       "      <td>-6.245863</td>\n",
       "      <td>106.803470</td>\n",
       "      <td>4.000000</td>\n",
       "      <td>-6.247225</td>\n",
       "      <td>106.801750</td>\n",
       "      <td>11.000000</td>\n",
       "      <td>0.000000</td>\n",
       "    </tr>\n",
       "    <tr>\n",
       "      <th>50%</th>\n",
       "      <td>3.507947e+15</td>\n",
       "      <td>1990.000000</td>\n",
       "      <td>1.000000</td>\n",
       "      <td>-6.214587</td>\n",
       "      <td>106.834830</td>\n",
       "      <td>10.000000</td>\n",
       "      <td>-6.214718</td>\n",
       "      <td>106.834580</td>\n",
       "      <td>18.000000</td>\n",
       "      <td>3500.000000</td>\n",
       "    </tr>\n",
       "    <tr>\n",
       "      <th>75%</th>\n",
       "      <td>4.699023e+15</td>\n",
       "      <td>2001.000000</td>\n",
       "      <td>1.000000</td>\n",
       "      <td>-6.175528</td>\n",
       "      <td>106.882270</td>\n",
       "      <td>19.000000</td>\n",
       "      <td>-6.174736</td>\n",
       "      <td>106.883030</td>\n",
       "      <td>29.000000</td>\n",
       "      <td>3500.000000</td>\n",
       "    </tr>\n",
       "    <tr>\n",
       "      <th>max</th>\n",
       "      <td>4.997694e+18</td>\n",
       "      <td>2012.000000</td>\n",
       "      <td>1.000000</td>\n",
       "      <td>-6.089429</td>\n",
       "      <td>107.023950</td>\n",
       "      <td>68.000000</td>\n",
       "      <td>-6.091746</td>\n",
       "      <td>107.023660</td>\n",
       "      <td>77.000000</td>\n",
       "      <td>20000.000000</td>\n",
       "    </tr>\n",
       "  </tbody>\n",
       "</table>\n",
       "</div>"
      ],
      "text/plain": [
       "          payCardID  payCardBirthDate     direction  tapInStopsLat  \\\n",
       "count  3.790000e+04      37900.000000  37900.000000   37900.000000   \n",
       "mean   4.250060e+17       1990.089314      0.500633      -6.214838   \n",
       "std    1.321699e+18         13.051482      0.500006       0.057911   \n",
       "min    6.040368e+10       1946.000000      0.000000      -6.394973   \n",
       "25%    1.800442e+14       1982.000000      0.000000      -6.245863   \n",
       "50%    3.507947e+15       1990.000000      1.000000      -6.214587   \n",
       "75%    4.699023e+15       2001.000000      1.000000      -6.175528   \n",
       "max    4.997694e+18       2012.000000      1.000000      -6.089429   \n",
       "\n",
       "       tapInStopsLon  stopStartSeq  tapOutStopsLat  tapOutStopsLon  \\\n",
       "count   37900.000000  37900.000000    36556.000000    36556.000000   \n",
       "mean      106.841554     13.572480       -6.214651      106.841233   \n",
       "std         0.060369     12.237623        0.059022        0.060999   \n",
       "min       106.614730      0.000000       -6.394973      106.614730   \n",
       "25%       106.803470      4.000000       -6.247225      106.801750   \n",
       "50%       106.834830     10.000000       -6.214718      106.834580   \n",
       "75%       106.882270     19.000000       -6.174736      106.883030   \n",
       "max       107.023950     68.000000       -6.091746      107.023660   \n",
       "\n",
       "         stopEndSeq     payAmount  \n",
       "count  36556.000000  36893.000000  \n",
       "mean      21.219909   2699.712683  \n",
       "std       13.800689   4212.225592  \n",
       "min        1.000000      0.000000  \n",
       "25%       11.000000      0.000000  \n",
       "50%       18.000000   3500.000000  \n",
       "75%       29.000000   3500.000000  \n",
       "max       77.000000  20000.000000  "
      ]
     },
     "execution_count": 4,
     "metadata": {},
     "output_type": "execute_result"
    }
   ],
   "source": [
    "df.describe()"
   ]
  },
  {
   "cell_type": "markdown",
   "id": "740ce56e",
   "metadata": {},
   "source": [
    "Supaya kita dapat melihat pembayaran yang dilakukan oleh para pengguna transjakarta, maka kita perlu untuk melihat statustik deskriptifnya. Dengan begitu juga dapat berguna sebagai Insight yang akan kita berikan nantinya."
   ]
  },
  {
   "cell_type": "code",
   "execution_count": 5,
   "id": "8dcf600f",
   "metadata": {},
   "outputs": [
    {
     "data": {
      "text/plain": [
       "count    36893.000000\n",
       "mean      2699.712683\n",
       "std       4212.225592\n",
       "min          0.000000\n",
       "25%          0.000000\n",
       "50%       3500.000000\n",
       "75%       3500.000000\n",
       "max      20000.000000\n",
       "Name: payAmount, dtype: float64"
      ]
     },
     "execution_count": 5,
     "metadata": {},
     "output_type": "execute_result"
    }
   ],
   "source": [
    "# cek statistik deskriptif untuk payAmount\n",
    "pay_amount_stats = df['payAmount'].describe()\n",
    "pay_amount_stats"
   ]
  },
  {
   "cell_type": "code",
   "execution_count": 6,
   "id": "6d4f76dc",
   "metadata": {},
   "outputs": [],
   "source": [
    "# mengisi NaN pada kolom payAmount berdasarkan median\n",
    "df['payAmount'] = df['payAmount'].fillna(df['payAmount'].median())"
   ]
  },
  {
   "cell_type": "markdown",
   "id": "024d84e6",
   "metadata": {},
   "source": [
    "Jika dilihat dari codingan diatas, ternyata banyak sekali yang memiliki data kosong. agar tidak menghasilkan analisis yang sangat buruk maka data kosong tersebut di isi dengan median yang ada pada kolom tersebut."
   ]
  },
  {
   "cell_type": "code",
   "execution_count": 7,
   "id": "2af05d6e",
   "metadata": {},
   "outputs": [],
   "source": [
    "# mengubah bentuk format payAmount menjadi string\n",
    "df['payAmount'] = df['payAmount'].astype(str)"
   ]
  },
  {
   "cell_type": "code",
   "execution_count": 8,
   "id": "be1a08fa",
   "metadata": {},
   "outputs": [],
   "source": [
    "# Hitung frekuensi tiap nilai payAmount\n",
    "pay_counts = df['payAmount'].value_counts().sort_index()"
   ]
  },
  {
   "cell_type": "code",
   "execution_count": 9,
   "id": "9242ca32",
   "metadata": {},
   "outputs": [
    {
     "data": {
      "text/plain": [
       "array(['3500.0', '20000.0', '0.0'], dtype=object)"
      ]
     },
     "execution_count": 9,
     "metadata": {},
     "output_type": "execute_result"
    }
   ],
   "source": [
    "df['payAmount'].unique()"
   ]
  },
  {
   "cell_type": "markdown",
   "id": "a12778ab",
   "metadata": {},
   "source": [
    "Dapat dilihat dari hasil nya maka tidak ada lagi data yang kosong melainkan semua orang yang ada di data tersebut mempunyai isi pada kolom `payAmount`."
   ]
  },
  {
   "cell_type": "code",
   "execution_count": 10,
   "id": "122f1afe",
   "metadata": {},
   "outputs": [],
   "source": [
    "# ubah dtype nya menjadi float\n",
    "df['payAmount'] = pd.to_numeric(df['payAmount'], errors='coerce')"
   ]
  },
  {
   "cell_type": "code",
   "execution_count": 11,
   "id": "0d2dcfc3",
   "metadata": {},
   "outputs": [
    {
     "data": {
      "image/png": "[encoded data removed]",
      "text/plain": [
       "<Figure size 1000x600 with 1 Axes>"
      ]
     },
     "metadata": {},
     "output_type": "display_data"
    }
   ],
   "source": [
    "# barchart untuk payAmount\n",
    "plt.figure(figsize=(10, 6))\n",
    "plt.bar(pay_counts.index.astype(str), pay_counts.values, color='skyblue')\n",
    "plt.title('Distribusi Jumlah Pembayaran Penumpang')\n",
    "plt.xlabel('Jumlah Pembayaran (Rp)')\n",
    "plt.ylabel('Jumlah Penumpang')\n",
    "plt.xticks(rotation=45)\n",
    "plt.grid(axis='y', linestyle='--', alpha=0.7)\n",
    "plt.tight_layout()\n",
    "plt.show()\n",
    "\n"
   ]
  },
  {
   "cell_type": "markdown",
   "id": "b0cb8b6e",
   "metadata": {},
   "source": [
    "Dari hasil barchart yang ditampilkan diatas menunjukan bahwa ada 3 nomminal yang sering muncul di setiap transaksi pembayaran. Gunanya dibuatkan Visualisasi ini agar mempermudah untuk dimengerti berapa transaksi pembayaran yang biasanya dilakukan oleh pengguna transjakarta."
   ]
  },
  {
   "cell_type": "markdown",
   "id": "d2e384a4",
   "metadata": {},
   "source": [
    "### Kesimpulan\n",
    "\n",
    "* dataset Transjakarta memiliki 22 kolom dan 37.900 baris (belum dilakukannya pembersihan data)\n",
    "\n",
    "* kolom `tapInTime` dan `tapOutTime` berisikan waktu dari tap masuk dan tap keluar halte memiliki tipe data object seharusnya merupakan data datetime\n",
    "\n",
    "* kolom `direction` berisikan value 0 dan 1, dari penjelasannya value tersebut menggambarkan arah rute dari pengguna TransJakarta.\n",
    "\n",
    "* Beberapa fitur penting dalam dataset dapat dimanfaatkan untuk analisis lebih lanjut. Misalnya, kolom `payCardSex` dapat digunakan untuk mengidentifikasi distribusi pengguna berdasarkan jenis kelamin, sedangkan `payCardBirthDate` berguna untuk menghitung usia pelanggan. Kolom `tapInTime` dan `tapOutTime` memungkinkan perhitungan durasi perjalanan serta analisis pola waktu penggunaan layanan. Informasi dari `corridorID` dan `corridorName` dapat digunakan untuk mengetahui rute-rute yang paling sering dipilih penumpang. Sementara itu, `tapInStopsName` dan `tapOutStopsName` memberikan gambaran tentang pola keberangkatan dan tujuan perjalanan berdasarkan lokasi halte. Kolom `payAmount` dapat dianalisis untuk melihat kecenderungan pengeluaran atau jenis tarif yang digunakan, dan `stopStartSeq` serta `stopEndSeq` membantu dalam mengamati alur atau panjang perjalanan berdasarkan urutan halte dalam rute.\n"
   ]
  },
  {
   "cell_type": "markdown",
   "id": "15e9e113",
   "metadata": {},
   "source": [
    "## Data Cleaning"
   ]
  },
  {
   "cell_type": "markdown",
   "id": "ece3bc6f",
   "metadata": {},
   "source": [
    "Data Cleaning atau pembersihan data adalah tahap penting dalam proses analisis data yang bertujuan untuk memastikan kualitas dan keakuratan dataset sebelum dianalisis lebih lanjut. Pada tahap ini, data diperiksa dan diperbaiki dari berbagai masalah seperti nilai yang hilang (missing values), data duplikat, inkonsistensi format, kesalahan penulisan, dan nilai-nilai yang tidak logis. Misalnya, data yang seharusnya numerik tetapi tersimpan sebagai teks, atau entri waktu yang tidak lengkap perlu diperbaiki agar tidak mempengaruhi hasil analisis.\n",
    "\n",
    "### 1. Menghindari Kesalahan Analisis\n",
    "\n",
    "Data yang tidak bersih bisa menyebabkan kesalahan dalam interpretasi. Misalnya, jika terdapat data ganda atau nilai yang tidak sesuai, maka hasil analisis statistik seperti rata-rata, median, atau korelasi bisa menyesatkan. Hal ini akan berdampak pada keputusan yang diambil dari hasil analisis tersebut.\n",
    "\n",
    "### 2. Menghapus Duplikasi Data\n",
    "\n",
    "Duplikasi bisa terjadi karena kesalahan input, sistem yang merekam dua kali, atau penggabungan beberapa sumber data. Jika tidak dihapus, nilai-nilai seperti jumlah total, persentase, dan distribusi bisa terdistorsi dan menghasilkan informasi yang tidak akurat.\n",
    "\n",
    "### 3. Menangani Data yang Hilang (Missing Values)\n",
    "\n",
    "Data yang kosong dapat menghambat proses analisis, terutama pada algoritma statistik dan machine learning yang membutuhkan data lengkap. Mengisi nilai kosong (imputasi), menghapus baris tertentu, atau menandai sebagai kategori tersendiri dapat meningkatkan kualitas data dan membuat model lebih stabil.\n",
    "\n",
    "### 4. Standarisasi Format dan Struktur\n",
    "\n",
    "Data yang tidak seragam—misalnya perbedaan penulisan tanggal, satuan ukuran, atau format teks—dapat menyulitkan proses pengolahan. Standarisasi memastikan seluruh data mudah dibaca oleh manusia dan diproses oleh sistem secara otomatis tanpa kesalahan.\n",
    "\n",
    "### 5. Menghilangkan Outlier atau Nilai Tak Wajar\n",
    "\n",
    "Outlier adalah nilai yang jauh berbeda dari mayoritas data. Dalam beberapa kasus, outlier adalah kesalahan input atau anomali sistem. Mengidentifikasi dan menangani nilai-nilai ini penting untuk menjaga agar analisis tetap mewakili kondisi umum, bukan hanya kasus-kasus ekstrem.\n",
    "\n",
    "### 6. Meningkatkan Kinerja Model Analitik\n",
    "\n",
    "Model prediktif atau statistik bekerja optimal jika datanya bersih dan konsisten. Data yang tidak bersih dapat menyebabkan model bias, akurasi rendah, atau bahkan gagal dijalankan. Oleh karena itu, pembersihan data adalah bagian penting dalam pra-pemrosesan sebelum modeling.\n",
    "\n",
    "### 7. Menjamin Konsistensi Data Antar-Kolom\n",
    "\n",
    "Dalam banyak dataset, antar-kolom sering saling berhubungan. Inkonsistensi antar-kolom—misalnya data waktu yang tidak selaras dengan urutan kejadian—dapat merusak logika analisis. Pembersihan data menjaga hubungan ini tetap logis dan selaras.\n",
    "\n",
    "### 8. Meningkatkan Kredibilitas dan Kepercayaan terhadap Data\n",
    "\n",
    "Data yang sudah dibersihkan akan lebih dipercaya oleh pengguna akhir seperti manajer, peneliti, atau analis. Dengan data yang kredibel, proses pengambilan keputusan menjadi lebih yakin dan berbasis bukti yang valid."
   ]
  },
  {
   "cell_type": "code",
   "execution_count": 12,
   "id": "413d85b1",
   "metadata": {},
   "outputs": [
    {
     "name": "stdout",
     "output_type": "stream",
     "text": [
      "transID             0.00\n",
      "payCardID           0.00\n",
      "payCardBank         0.00\n",
      "payCardName         0.00\n",
      "payCardSex          0.00\n",
      "payCardBirthDate    0.00\n",
      "corridorID          3.32\n",
      "corridorName        5.09\n",
      "direction           0.00\n",
      "tapInStops          3.20\n",
      "tapInStopsName      0.00\n",
      "tapInStopsLat       0.00\n",
      "tapInStopsLon       0.00\n",
      "stopStartSeq        0.00\n",
      "tapInTime           0.00\n",
      "tapOutStops         6.04\n",
      "tapOutStopsName     3.55\n",
      "tapOutStopsLat      3.55\n",
      "tapOutStopsLon      3.55\n",
      "stopEndSeq          3.55\n",
      "tapOutTime          3.55\n",
      "payAmount           0.00\n",
      "dtype: float64\n"
     ]
    }
   ],
   "source": [
    "# melihat missing value dan menghitung persentasenya\n",
    "Misval = df.isna().sum()\n",
    "MisPerc = round((Misval / len(df)) * 100, 2)\n",
    "\n",
    "print(MisPerc)"
   ]
  },
  {
   "cell_type": "code",
   "execution_count": 13,
   "id": "f9541da8",
   "metadata": {},
   "outputs": [
    {
     "data": {
      "image/png": "[encoded data removed]",
      "text/plain": [
       "<Figure size 1400x600 with 1 Axes>"
      ]
     },
     "metadata": {},
     "output_type": "display_data"
    }
   ],
   "source": [
    "plt.figure(figsize=(14, 6))\n",
    "plt.barh(Misval.index, Misval, color='blue')\n",
    "plt.title('missing values')\n",
    "plt.xlabel('Jumlah missing value')\n",
    "plt.ylabel('Columns')\n",
    "plt.show()"
   ]
  },
  {
   "cell_type": "markdown",
   "id": "9aab569f",
   "metadata": {},
   "source": [
    "Dari hasil diatas dapat dilihat bahwa ada banyak kolom yang mempunyai missing value dan kolom yang terdapat banyak missing value yaitu `tapOutStops`"
   ]
  },
  {
   "cell_type": "code",
   "execution_count": 14,
   "id": "5b37b540",
   "metadata": {},
   "outputs": [],
   "source": [
    "# membuat salinan data\n",
    "df_copy = df.copy()"
   ]
  },
  {
   "cell_type": "code",
   "execution_count": 15,
   "id": "db8ad9b1",
   "metadata": {},
   "outputs": [
    {
     "data": {
      "text/plain": [
       "np.int64(0)"
      ]
     },
     "execution_count": 15,
     "metadata": {},
     "output_type": "execute_result"
    }
   ],
   "source": [
    "# mencari duplikasi data\n",
    "df.duplicated().sum()"
   ]
  },
  {
   "cell_type": "markdown",
   "id": "92ba8faa",
   "metadata": {},
   "source": [
    "codingan diatas menunjukan tidak ada data yang isinya duplikat"
   ]
  },
  {
   "cell_type": "code",
   "execution_count": 16,
   "id": "cde93e27",
   "metadata": {},
   "outputs": [],
   "source": [
    "# mengubah date time yang dalam bentuk object menjadi date time\n",
    "df['tapInTime'] = pd.to_datetime(df['tapInTime'])"
   ]
  },
  {
   "cell_type": "code",
   "execution_count": 17,
   "id": "abcdb5ac",
   "metadata": {},
   "outputs": [],
   "source": [
    "# mengubah date time yang dalam bentuk object menjadi date time\n",
    "df['tapOutTime'] = pd.to_datetime(df['tapOutTime'])"
   ]
  },
  {
   "cell_type": "markdown",
   "id": "c6970066",
   "metadata": {},
   "source": [
    "Guna kita mengubah menjadi sate time untuk lebih mudah pekerjaan kita pada saat pembuatan visualisasi. Karena sebelumnya kolom `tapInTime` dan `tapOutTime` berbentuk object"
   ]
  },
  {
   "cell_type": "code",
   "execution_count": 18,
   "id": "94e64d9a",
   "metadata": {},
   "outputs": [
    {
     "data": {
      "text/plain": [
       "array([1., 0.])"
      ]
     },
     "execution_count": 18,
     "metadata": {},
     "output_type": "execute_result"
    }
   ],
   "source": [
    "# melihat kolom direction\n",
    "df['direction'].unique()"
   ]
  },
  {
   "cell_type": "code",
   "execution_count": 19,
   "id": "12b6c2d5",
   "metadata": {},
   "outputs": [
    {
     "data": {
      "text/plain": [
       "array(['pulang', 'berangkaat'], dtype=object)"
      ]
     },
     "execution_count": 19,
     "metadata": {},
     "output_type": "execute_result"
    }
   ],
   "source": [
    "# mengubah isi dari kolom direction menjadi 0 = 'berangkat' dan 1 = 'sampai'\n",
    "df['direction'] = df['direction'].replace({0: 'berangkaat', 1: 'pulang'})\n",
    "df['direction'].unique()"
   ]
  },
  {
   "cell_type": "markdown",
   "id": "f3d2df29",
   "metadata": {},
   "source": [
    "Tujuan dari pengubahan isi dalam kolom teresebut agar memudahkan kita untuk mengetahui apakah penumpang sedang menaiki transjakarta dengan rute berangkat atau pulang"
   ]
  },
  {
   "cell_type": "code",
   "execution_count": 20,
   "id": "f9088cdd",
   "metadata": {},
   "outputs": [
    {
     "data": {
      "text/plain": [
       "['Child', 'Adult', 'Pre-Senior', 'Teeneger', 'Senior']\n",
       "Categories (5, object): ['Child' < 'Teeneger' < 'Adult' < 'Pre-Senior' < 'Senior']"
      ]
     },
     "execution_count": 20,
     "metadata": {},
     "output_type": "execute_result"
    }
   ],
   "source": [
    "# mengubah payCardBirthDate menjadi umur\n",
    "df['age'] = 2023 - df['payCardBirthDate'] # -> diasumsikan tahun sekarang adalah tahun 2023\n",
    "df['ageGroup'] = pd.cut(df['age'], bins=[0, 18, 25, 40, 60, 100], \n",
    "                                    labels=['Child', 'Teeneger', 'Adult', 'Pre-Senior', 'Senior'])\n",
    "\n",
    "df['ageGroup'].unique()"
   ]
  },
  {
   "cell_type": "markdown",
   "id": "4e011470",
   "metadata": {},
   "source": [
    "Supaya terlihat lebih rapih maka kolom payCardBirthDate ini akan dipecah supaya output umur yang di hasilkan terlihat lebih jelas. Dan juga lebih mudah juga untuk melihat kategori umur pengguna transjakarta"
   ]
  },
  {
   "cell_type": "code",
   "execution_count": 21,
   "id": "d87022e4",
   "metadata": {},
   "outputs": [
    {
     "data": {
      "text/plain": [
       "array(['Matraman Baru - Ancol',\n",
       "       'Stasiun Tebet - Karet Via Patra Kuningan', 'Pantai Maju - Kota',\n",
       "       'Pulo Gebang - Pulo Gadung 2 Via Pik', 'Tanjung Priok - Pluit',\n",
       "       'Cibubur - Balai Kota', 'Kalibata - Kuningan', 'Nan',\n",
       "       'Bekasi Barat - Kuningan', 'Rempoa - Blok M',\n",
       "       'Kampung Melayu - Tanah Abang Via Cikini', 'Bkn - Blok M',\n",
       "       'Pgc 2 - Grogol 2', 'Pulo Gadung 2 - Tosari',\n",
       "       'Pasar Minggu - Jagakarsa', 'Ciputat - Kampung Rambutan',\n",
       "       'Ciledug - Tendean', 'Kebayoran Lama - Jelambar',\n",
       "       'Pinang Ranti - Pluit', 'Terminal Tanjung Priok - Ancol Barat',\n",
       "       'Poris Plawad - Bundaran Senayan', 'Cililitan - Condet',\n",
       "       'Ragunan - Gelora Bung Karno',\n",
       "       'Kampung Melayu - Pulo Gebang Via Bkt',\n",
       "       'Kampung Melayu - Duren Sawit', 'Pulo Gebang - Matraman',\n",
       "       'Pesanggrahan - Blok M', 'Rusun Flamboyan - Cengkareng',\n",
       "       'Blok M - Kota', 'Kampung Rambutan - Ragunan', 'Senen - Blok M',\n",
       "       'Pancoran - Kampung Rambutan', 'Senen - Lebak Bulus',\n",
       "       'Jakarta International Stadium - Senen',\n",
       "       'Monas - Pantai Indah Kapuk',\n",
       "       'Harmoni - Jakarta International Stadium',\n",
       "       'Bulak Turi - Tanjung Priok', 'Ragunan - Blok M Via Kemang',\n",
       "       'Pulo Gebang - Pulo Gadung 2',\n",
       "       'Terminal Tanah Merah - Pulo Gadung', 'Pinang Ranti - Pramuka',\n",
       "       'Tongtek - Tebet Eco Park (Tep) - Cililitan',\n",
       "       'Kampung Melayu - Pondok Kelapa', 'Pulo Gadung - Monas',\n",
       "       'Pondok Kelapa - Bkn', 'Cilangkap - Cililitan',\n",
       "       'Puri Beta - Pancoran Barat', 'Kampung Rambutan - Pondok Gede',\n",
       "       'Tanah Abang - Meruya', 'Kampung Rambutan - Monas',\n",
       "       'Pasar Minggu - Tanah Abang', 'Rusun Pesakih - Kalideres',\n",
       "       'Rusun Kapuk Muara - Penjaringan', 'Lebak Bulus - Pasar Baru',\n",
       "       'Bekasi Timur - Cawang', 'Pelabuhan Kaliadem - Kota',\n",
       "       'Kampung Rambutan - Pinang Ranti', 'Tanjung Priok - Jembatan Item',\n",
       "       'Andara - Stasiun Universitas Pancasila',\n",
       "       'Stasiun Tebet - Kampung Melayu', 'Batusari - Grogol',\n",
       "       'Pinang Ranti - Kampung Rambutan', 'Pgc 2 - Tanjung Priok',\n",
       "       'Kampung Rambutan - Tanjung Priok', 'Cililitan - Kp. Pulo',\n",
       "       'Summarecon Bekasi - Bnn',\n",
       "       'Terminal Kalideres - Terminal Muara Angke',\n",
       "       'Cililitan - Condet Via Kayu Manis', 'Blok M - Andara',\n",
       "       'Rusun Rawa Bebek - Bukit Duri',\n",
       "       'Sarana Jaya - Tebet Eco Park (Tep) - Stasiun Cawang',\n",
       "       'Rusun Cakung Barat - Pulo Gadung', 'Kebayoran Lama - Tanah Abang',\n",
       "       'Pluit - Senen', 'Pgc 1 - Ancol', 'Tanjung Priok - Tanah Merdeka',\n",
       "       'Jelambar - Kota', 'Lebak Bulus - Cipulir',\n",
       "       'Kampung Rambutan - Lebak Bulus', 'Blok M - Pgc',\n",
       "       'Cawang Uki - Lubang Buaya', 'Meruya - Blok M',\n",
       "       'Taman Waduk Papanggo - Kota Tua', 'Pgc - Juanda',\n",
       "       'Pulo Gebang - Rorotan',\n",
       "       'Dukuh Atas - Casablanca Via Epicentrum Raya',\n",
       "       'Rusun Jatinegara Kaum - Pulo Gadung',\n",
       "       'Terminal Kampung Melayu - Kapin Raya',\n",
       "       'Rusun Jati Rawasari - Senen', 'Roxy - Benhil',\n",
       "       'Palem Semi - Bundaran Senayan', 'Bintaro - Blok M',\n",
       "       'Senen - Pisangan Baru', 'Stasiun Manggarai - Blok M',\n",
       "       'Tanah Abang - Grogol Via Tawakal',\n",
       "       'Term. Tj. Priok - Pegangsaan Ii Igi', 'Cililitan - Dwikora',\n",
       "       'Rawamangun - Duren Sawit', 'Puri Beta - Kuningan (Express)',\n",
       "       'St. Lrt Pegangsaan Dua - Jis', 'Lenteng Agung - Aseli',\n",
       "       'Pasar Minggu - Ciganjur Via Kb Ragunan',\n",
       "       'Stasiun Palmerah - Bundaran Senayan',\n",
       "       'Rusun Waduk Pluit - Penjaringan', 'Puri Beta - Dukuh Atas',\n",
       "       'Tanjung Priok - Plumpang', 'Jis - Terminal Muara Angke',\n",
       "       'Stasiun Manggarai - Ui', 'Cibubur - Bkn',\n",
       "       'Bintara - Cipinang Indah', 'Rusun Cipinang Muara - Jatinegara',\n",
       "       'Tanah Abang - Kota', 'Rusun Rawa Bebek - Kodamar',\n",
       "       'Pulo Gadung - Rawa Buaya Via Balai Kota',\n",
       "       'Kampung Melayu - Pulo Gadung',\n",
       "       'Term. Rawamangun - Term. Manggarai',\n",
       "       'Kalideres - Bundaran Hi Via Veteran', 'Jelambar - Juanda',\n",
       "       'Pondok Labu - Blok M', 'Rusun Tambora - Pluit',\n",
       "       'Pulo Gadung 2 - Dukuh Atas 2', 'Blok M - Universitas Indonesia',\n",
       "       'Puri Beta - Ragunan', 'Kampung Melayu - Ragunan',\n",
       "       'Pasar Minggu - Velbak',\n",
       "       'Rusun Pondok Bambu - Walikota Jakarta Timur',\n",
       "       'Kampung Melayu - Tanah Abang', 'Jambore Cibubur - Pasar Rebo',\n",
       "       'Lebak Bulus - Petukangan', 'Kalideres - Gelora Bung Karno',\n",
       "       'Kalideres - Puri Kembangan', 'Gondangdia - Senen',\n",
       "       'Tanjung Priok - Sukapura', 'Stasiun Tebet - Rusun Karet Tengsin',\n",
       "       'Lebak Bulus - Ragunan',\n",
       "       'Rusun Marunda - Terminal Terpadu Pulo Gebang', 'Ciputat - Csw',\n",
       "       'Sunter Boulevard Barat - Penjaringan', 'Tanah Abang - Blok M',\n",
       "       'Cinere - Bundaran Senayan', 'Taman Kota - Budi Luhur',\n",
       "       'Bsd - Jelambar', 'Blok M - Pasar Minggu', 'Tanjung Priok - Pgc 2',\n",
       "       'Tanah Abang - St. Gondangdia', 'Grogol - Benhil',\n",
       "       'Harapan Indah - Asmi', 'Lebak Bulus - Andara',\n",
       "       'Tanjung Priok - Senen Via Taman Bmw',\n",
       "       'Ragunan - Mh Thamrin Via Kuningan', 'Pinang Ranti - Pulo Gadung',\n",
       "       'Kp. Rambutan - Kalisari', 'Ragunan - Mh Thamrin Via Semanggi',\n",
       "       'Stasiun Tebet - Bnn', 'Ragunan - Mh Thamrin',\n",
       "       'Kalimalang - Duren Sawit', 'Lebak Bulus - Pasar Baru Via Tomang',\n",
       "       'Rawa Buaya - Rawa Kompeni', 'Tanah Abang - Kebayoran Lama',\n",
       "       'Bintaro - Fatmawati', 'Senen - Pulo Gadung',\n",
       "       'Stasiun Tebet - Karet Via Underpass',\n",
       "       'Rusun Komarudin - Penggilingan',\n",
       "       'Rusun Cipinang Besar Selatan - Penas Kalimalang',\n",
       "       'Tanah Abang - Jembatan Lima', 'Dwikora - Penas Kalimalang',\n",
       "       'Grogol - Meruya Via Roxy', 'Cilincing - Rorotan',\n",
       "       'Tanah Abang - Stasiun Gondangdia', 'Tu Gas - Bundaran Senayan',\n",
       "       'Puri Beta 2 - Tendean', 'Joglo - Blok M', 'Rawamangun - Klender',\n",
       "       'Pulo Gadung 2 - Kuningan', 'Rusun Marunda - Tanjung Priok',\n",
       "       'Kampung Rambutan - Pasar Rebo Via Poncol',\n",
       "       'Terminal Rawamangun - Cipinang Muara',\n",
       "       'Kampung Rambutan - Bidara Cina',\n",
       "       'Kelapa Gading - Rusun Kemayoran',\n",
       "       'Pinang Ranti - Bundaran Senayan',\n",
       "       'Universitas Indonesia - Lebak Bulus', 'Bekasi Barat - Blok M',\n",
       "       'Depok - Bkn', 'Cinere - Kuningan', 'S. Parman - Tanah Abang',\n",
       "       'Grogol - Srengseng', 'Stasiun Palmerah - Tosari',\n",
       "       'Rusun Penjaringan - Penjaringan',\n",
       "       'Kampung Rambutan - Juanda Via Pasar Baru',\n",
       "       'Ragunan - Dukuh Atas 2', 'Rawamangun - Tanah Merah',\n",
       "       'Rusun Sindang Koja - Kp. Sawah', 'Grogol - Tubagus Angke',\n",
       "       'Harapan Baru - Pulo Gebang Via Rawa Kuning',\n",
       "       'Rusun Marunda - Rusun Waduk Pluit',\n",
       "       'Cempaka Putih - Pulo Gadung Via Kelapa Gading',\n",
       "       'Cibubur Junction - Blok M',\n",
       "       'Senen - Pulo Gadung Via Kelapa Gading', 'Tanjung Priok - Blok M',\n",
       "       'Cibubur - Kuningan', 'Rusun Pinus Elok - Rusun Pulo Gebang',\n",
       "       'Puri Kembangan - Sentraland Cengkareng',\n",
       "       'Pangkalan Jati - Rawamangun', 'Bulak Ringin - Kampung Rambutan',\n",
       "       'Bsd Serpong - Fatmawati', 'Pantai Maju - Balai Kota',\n",
       "       'Pulo Gadung - Kota', 'Semper - Rorotan',\n",
       "       'Rusun Rawa Bebek - Penggilingan',\n",
       "       'Terminal Kampung Melayu - Terminal Klender',\n",
       "       'Kp. Rambutan - Taman Wiladatika', 'Gondangdia - Balai Kota',\n",
       "       'Grogol - Pos Pengumben Via Slipi', 'Senen - Tanah Abang',\n",
       "       'Kampung Rambutan - Blok M', 'Term. Pulo Gadung - Lampiri',\n",
       "       'Tanah Abang - Kebayoran Lama Via Pos Pengumben'], dtype=object)"
      ]
     },
     "execution_count": 21,
     "metadata": {},
     "output_type": "execute_result"
    }
   ],
   "source": [
    "# cleaning corridorName\n",
    "df['corridorName'] = df['corridorName'].astype(str)  \n",
    "df['corridorName'] = df['corridorName'].str.strip() \n",
    "df['corridorName'] = df['corridorName'].str.title()  \n",
    "df['corridorName'] = df['corridorName'].replace('nan', 'Unknown')  \n",
    "df['corridorName'] = df['corridorName'].fillna('Unknown')  \n",
    "\n",
    "df['corridorName'].isna().sum()\n",
    "df['corridorName'].unique()"
   ]
  },
  {
   "cell_type": "markdown",
   "id": "44738126",
   "metadata": {},
   "source": [
    "Sebelumnya terdapat kesalahan penulisan seperti hurufnya besar semua, tidak memiliki kapita, dll. Maka dari itu, kita samakan semua penulisan gaya hurufnya supaya terlihat lebih rapih"
   ]
  },
  {
   "cell_type": "code",
   "execution_count": 22,
   "id": "e0c2c28d",
   "metadata": {},
   "outputs": [],
   "source": [
    "# membersihkan kolom tapOutStopsName\n",
    "def clean_text(val):\n",
    "    if isinstance(val, str):\n",
    "        return ' '.join(val.strip().title().split())\n",
    "    return val  \n"
   ]
  },
  {
   "cell_type": "code",
   "execution_count": 23,
   "id": "9e19a5a9",
   "metadata": {},
   "outputs": [],
   "source": [
    "# bersihkan teks dan mengganti nilai 'nan' menjadi tidak diketahui\n",
    "df['tapOutStopsName'] = df['tapOutStopsName'].apply(clean_text)\n",
    "df['tapOutStopsName'] = df['tapOutStopsName'].fillna('tidak diketahui')"
   ]
  },
  {
   "cell_type": "markdown",
   "id": "03128844",
   "metadata": {},
   "source": [
    "Karena sebelumnya kolom ini memiliki isi 'nan' maka akan terlihat lebih rapih ketika isi kolom tersebut diberikan dengan kata-kata 'tidak diketahui'"
   ]
  },
  {
   "cell_type": "code",
   "execution_count": 24,
   "id": "3d621515",
   "metadata": {},
   "outputs": [
    {
     "name": "stderr",
     "output_type": "stream",
     "text": [
      "C:\\Users\\Aufaa Zuhair\\AppData\\Local\\Temp\\ipykernel_13164\\3472910331.py:2: FutureWarning: A value is trying to be set on a copy of a DataFrame or Series through chained assignment using an inplace method.\n",
      "The behavior will change in pandas 3.0. This inplace method will never work because the intermediate object on which we are setting values always behaves as a copy.\n",
      "\n",
      "For example, when doing 'df[col].method(value, inplace=True)', try using 'df.method({col: value}, inplace=True)' or df[col] = df[col].method(value) instead, to perform the operation inplace on the original object.\n",
      "\n",
      "\n",
      "  df['tapOutStops'].fillna('tidak ditemukan', inplace=True)\n"
     ]
    },
    {
     "data": {
      "text/plain": [
       "0     P00253\n",
       "1    B03307P\n",
       "2    B04962P\n",
       "3    B03090P\n",
       "4     P00098\n",
       "Name: tapOutStops, dtype: object"
      ]
     },
     "execution_count": 24,
     "metadata": {},
     "output_type": "execute_result"
    }
   ],
   "source": [
    "# membersihkan kolom tapOutStops dengan mengisi baris yang kosong menjadi 'tidak ditemukan'\n",
    "df['tapOutStops'].fillna('tidak ditemukan', inplace=True)\n",
    "df['tapOutStops'].head()"
   ]
  },
  {
   "cell_type": "markdown",
   "id": "dc850bd1",
   "metadata": {},
   "source": [
    "Begitupun juga pada kolom `tapOutStops` data yang kosong pada ini akan terisi dengan 'tidak ditemukan'"
   ]
  },
  {
   "cell_type": "code",
   "execution_count": 25,
   "id": "bbfb27f9",
   "metadata": {},
   "outputs": [
    {
     "name": "stderr",
     "output_type": "stream",
     "text": [
      "C:\\Users\\Aufaa Zuhair\\AppData\\Local\\Temp\\ipykernel_13164\\2571966652.py:2: FutureWarning: A value is trying to be set on a copy of a DataFrame or Series through chained assignment using an inplace method.\n",
      "The behavior will change in pandas 3.0. This inplace method will never work because the intermediate object on which we are setting values always behaves as a copy.\n",
      "\n",
      "For example, when doing 'df[col].method(value, inplace=True)', try using 'df.method({col: value}, inplace=True)' or df[col] = df[col].method(value) instead, to perform the operation inplace on the original object.\n",
      "\n",
      "\n",
      "  df['tapInStops'].fillna('tidak ditemukan', inplace=True)\n"
     ]
    },
    {
     "data": {
      "text/plain": [
       "0     P00142\n",
       "1    B01963P\n",
       "2    B00499P\n",
       "3    B05587P\n",
       "4     P00239\n",
       "Name: tapInStops, dtype: object"
      ]
     },
     "execution_count": 25,
     "metadata": {},
     "output_type": "execute_result"
    }
   ],
   "source": [
    "# membersihkan kolom tapInStops dengan mengisi baris yang kosong menjadi 'tidak ditemukan'\n",
    "df['tapInStops'].fillna('tidak ditemukan', inplace=True)\n",
    "df['tapInStops'].head()"
   ]
  },
  {
   "cell_type": "code",
   "execution_count": 26,
   "id": "8ddee304",
   "metadata": {},
   "outputs": [
    {
     "name": "stderr",
     "output_type": "stream",
     "text": [
      "C:\\Users\\Aufaa Zuhair\\AppData\\Local\\Temp\\ipykernel_13164\\3936601814.py:2: FutureWarning: A value is trying to be set on a copy of a DataFrame or Series through chained assignment using an inplace method.\n",
      "The behavior will change in pandas 3.0. This inplace method will never work because the intermediate object on which we are setting values always behaves as a copy.\n",
      "\n",
      "For example, when doing 'df[col].method(value, inplace=True)', try using 'df.method({col: value}, inplace=True)' or df[col] = df[col].method(value) instead, to perform the operation inplace on the original object.\n",
      "\n",
      "\n",
      "  df['tapOutStopsLat'].fillna('titik tidak ditemukan', inplace=True)\n",
      "C:\\Users\\Aufaa Zuhair\\AppData\\Local\\Temp\\ipykernel_13164\\3936601814.py:2: FutureWarning: Setting an item of incompatible dtype is deprecated and will raise an error in a future version of pandas. Value 'titik tidak ditemukan' has dtype incompatible with float64, please explicitly cast to a compatible dtype first.\n",
      "  df['tapOutStopsLat'].fillna('titik tidak ditemukan', inplace=True)\n",
      "C:\\Users\\Aufaa Zuhair\\AppData\\Local\\Temp\\ipykernel_13164\\3936601814.py:3: FutureWarning: A value is trying to be set on a copy of a DataFrame or Series through chained assignment using an inplace method.\n",
      "The behavior will change in pandas 3.0. This inplace method will never work because the intermediate object on which we are setting values always behaves as a copy.\n",
      "\n",
      "For example, when doing 'df[col].method(value, inplace=True)', try using 'df.method({col: value}, inplace=True)' or df[col] = df[col].method(value) instead, to perform the operation inplace on the original object.\n",
      "\n",
      "\n",
      "  df['tapOutStopsLon'].fillna('titik tidak ditemukan', inplace=True)\n",
      "C:\\Users\\Aufaa Zuhair\\AppData\\Local\\Temp\\ipykernel_13164\\3936601814.py:3: FutureWarning: Setting an item of incompatible dtype is deprecated and will raise an error in a future version of pandas. Value 'titik tidak ditemukan' has dtype incompatible with float64, please explicitly cast to a compatible dtype first.\n",
      "  df['tapOutStopsLon'].fillna('titik tidak ditemukan', inplace=True)\n"
     ]
    }
   ],
   "source": [
    "# mengubah nilai kosong pada kolom tapOutStopsLat dan tapOutStopsLon di isi dengan 'titik tidak ditemukan'\n",
    "df['tapOutStopsLat'].fillna('titik tidak ditemukan', inplace=True)\n",
    "df['tapOutStopsLon'].fillna('titik tidak ditemukan', inplace=True)"
   ]
  },
  {
   "cell_type": "code",
   "execution_count": 27,
   "id": "c3c0664e",
   "metadata": {},
   "outputs": [
    {
     "data": {
      "text/plain": [
       "transID                0\n",
       "payCardID              0\n",
       "payCardBank            0\n",
       "payCardName            0\n",
       "payCardSex             0\n",
       "payCardBirthDate       0\n",
       "corridorID          1257\n",
       "corridorName           0\n",
       "direction              0\n",
       "tapInStops             0\n",
       "tapInStopsName         0\n",
       "tapInStopsLat          0\n",
       "tapInStopsLon          0\n",
       "stopStartSeq           0\n",
       "tapInTime              0\n",
       "tapOutStops            0\n",
       "tapOutStopsName        0\n",
       "tapOutStopsLat         0\n",
       "tapOutStopsLon         0\n",
       "stopEndSeq          1344\n",
       "tapOutTime          1344\n",
       "payAmount              0\n",
       "age                    0\n",
       "ageGroup               0\n",
       "dtype: int64"
      ]
     },
     "execution_count": 27,
     "metadata": {},
     "output_type": "execute_result"
    }
   ],
   "source": [
    "df.isna().sum()"
   ]
  },
  {
   "cell_type": "markdown",
   "id": "464d6d36",
   "metadata": {},
   "source": [
    "Dari beberapa hasil yang sudah kita lakukan, menunjukan bahwa kolom kolom yang mempunyai missing value sudah mulai berkurang dan tersisa 3 kolom lagi yang masih memiliki missing value di kolom tersebut"
   ]
  },
  {
   "cell_type": "code",
   "execution_count": 28,
   "id": "55204288",
   "metadata": {},
   "outputs": [],
   "source": [
    "# drop kolom corridorID\n",
    "df.drop('corridorID', axis = 1, inplace = True)"
   ]
  },
  {
   "cell_type": "code",
   "execution_count": 29,
   "id": "0319e286",
   "metadata": {},
   "outputs": [],
   "source": [
    "# drop kolom stopEndSeq\n",
    "df.drop('stopEndSeq', axis = 1, inplace = True)"
   ]
  },
  {
   "cell_type": "markdown",
   "id": "a13398e3",
   "metadata": {},
   "source": [
    "Karena kita tidak menggunakan kolom `corridorID` dan `stopEndSeq` maka akan didrop. Kolom `corridorID` mempunyai makna yang sama seperti kolom `corridorName` sehingga kita hanya perlu menggunakan salah satu dari kolom tersebut"
   ]
  },
  {
   "cell_type": "code",
   "execution_count": 30,
   "id": "ebe334e8",
   "metadata": {},
   "outputs": [
    {
     "data": {
      "text/plain": [
       "transID                0\n",
       "payCardID              0\n",
       "payCardBank            0\n",
       "payCardName            0\n",
       "payCardSex             0\n",
       "payCardBirthDate       0\n",
       "corridorName           0\n",
       "direction              0\n",
       "tapInStops             0\n",
       "tapInStopsName         0\n",
       "tapInStopsLat          0\n",
       "tapInStopsLon          0\n",
       "stopStartSeq           0\n",
       "tapInTime              0\n",
       "tapOutStops            0\n",
       "tapOutStopsName        0\n",
       "tapOutStopsLat         0\n",
       "tapOutStopsLon         0\n",
       "tapOutTime          1344\n",
       "payAmount              0\n",
       "age                    0\n",
       "ageGroup               0\n",
       "dtype: int64"
      ]
     },
     "execution_count": 30,
     "metadata": {},
     "output_type": "execute_result"
    }
   ],
   "source": [
    "df.isna().sum()"
   ]
  },
  {
   "cell_type": "markdown",
   "id": "879f2e69",
   "metadata": {},
   "source": [
    "Di lihat dari hasil cleaning yang dilakukan, hampir semua yang memiliki missing value sudah di bersihkan dengan cara mengisi baris yang kosong dan mendrop kolom yang tidak digunakan. Pada kolom `tapOutTime` ini tidak di bersihkan karena nantinya akan menjadi salah satu topik yang akan dibahas pada bagian visualisasi."
   ]
  },
  {
   "cell_type": "code",
   "execution_count": 31,
   "id": "6d9eb294",
   "metadata": {},
   "outputs": [],
   "source": [
    "df_cleaned = df.copy()"
   ]
  },
  {
   "cell_type": "code",
   "execution_count": 32,
   "id": "4e9c4f62",
   "metadata": {},
   "outputs": [],
   "source": [
    "# menyimpan csv yang sudah dibersihkan\n",
    "df_cleaned.to_csv('Transjakarta_Bersih.csv')"
   ]
  },
  {
   "cell_type": "markdown",
   "id": "640a972b",
   "metadata": {},
   "source": [
    "Ketika semuanya sudah siap dan sudah selesai proses tahap cleaning maka dibuatkan nya dataset yang sudah bersih agar kita bisa membedakan dataset yang masih kotor dan dataset yang sudah dibersihkan"
   ]
  },
  {
   "cell_type": "markdown",
   "id": "907c0a92",
   "metadata": {},
   "source": [
    "## Analisa Data"
   ]
  },
  {
   "cell_type": "markdown",
   "id": "92fe6c36",
   "metadata": {},
   "source": [
    "Setelah proses data cleaning dilakukan dan dataset berada dalam kondisi yang bersih serta konsisten, tahap selanjutnya adalah melakukan analisis data. Tahapan ini bertujuan untuk menggali informasi yang terkandung dalam data melalui eksplorasi, visualisasi, dan pengukuran statistik.\n",
    "\n",
    "Melalui analisis ini, kita dapat mengidentifikasi pola-pola penting, hubungan antar variabel, serta anomali yang mungkin terjadi. Langkah ini menjadi krusial dalam memahami karakteristik data, mengevaluasi performa sistem, hingga menemukan insight yang dapat digunakan untuk pengambilan keputusan strategis berbasis data.\n",
    "\n",
    "Analisis dilakukan dengan pendekatan deskriptif dan eksploratif, menggunakan berbagai teknik visualisasi serta perhitungan numerik, guna menghasilkan pemahaman yang mendalam terhadap perilaku dan karakteristik pengguna serta sistem yang dianalisis."
   ]
  },
  {
   "cell_type": "code",
   "execution_count": 33,
   "id": "40cefc33",
   "metadata": {},
   "outputs": [
    {
     "data": {
      "text/html": [
       "<div>\n",
       "<style scoped>\n",
       "    .dataframe tbody tr th:only-of-type {\n",
       "        vertical-align: middle;\n",
       "    }\n",
       "\n",
       "    .dataframe tbody tr th {\n",
       "        vertical-align: top;\n",
       "    }\n",
       "\n",
       "    .dataframe thead th {\n",
       "        text-align: right;\n",
       "    }\n",
       "</style>\n",
       "<table border=\"1\" class=\"dataframe\">\n",
       "  <thead>\n",
       "    <tr style=\"text-align: right;\">\n",
       "      <th></th>\n",
       "      <th>transID</th>\n",
       "      <th>payCardID</th>\n",
       "      <th>payCardBank</th>\n",
       "      <th>payCardName</th>\n",
       "      <th>payCardSex</th>\n",
       "      <th>payCardBirthDate</th>\n",
       "      <th>corridorName</th>\n",
       "      <th>direction</th>\n",
       "      <th>tapInStops</th>\n",
       "      <th>tapInStopsName</th>\n",
       "      <th>...</th>\n",
       "      <th>stopStartSeq</th>\n",
       "      <th>tapInTime</th>\n",
       "      <th>tapOutStops</th>\n",
       "      <th>tapOutStopsName</th>\n",
       "      <th>tapOutStopsLat</th>\n",
       "      <th>tapOutStopsLon</th>\n",
       "      <th>tapOutTime</th>\n",
       "      <th>payAmount</th>\n",
       "      <th>age</th>\n",
       "      <th>ageGroup</th>\n",
       "    </tr>\n",
       "  </thead>\n",
       "  <tbody>\n",
       "    <tr>\n",
       "      <th>0</th>\n",
       "      <td>EIIW227B8L34VB</td>\n",
       "      <td>180062659848800</td>\n",
       "      <td>emoney</td>\n",
       "      <td>Bajragin Usada</td>\n",
       "      <td>M</td>\n",
       "      <td>2008</td>\n",
       "      <td>Matraman Baru - Ancol</td>\n",
       "      <td>pulang</td>\n",
       "      <td>P00142</td>\n",
       "      <td>Pal Putih</td>\n",
       "      <td>...</td>\n",
       "      <td>7</td>\n",
       "      <td>2023-04-03 05:21:44</td>\n",
       "      <td>P00253</td>\n",
       "      <td>Tegalan</td>\n",
       "      <td>-6.203101</td>\n",
       "      <td>106.85715</td>\n",
       "      <td>2023-04-03 06:00:53</td>\n",
       "      <td>3500.0</td>\n",
       "      <td>15</td>\n",
       "      <td>Child</td>\n",
       "    </tr>\n",
       "    <tr>\n",
       "      <th>1</th>\n",
       "      <td>LGXO740D2N47GZ</td>\n",
       "      <td>4885331907664776</td>\n",
       "      <td>dki</td>\n",
       "      <td>Gandi Widodo</td>\n",
       "      <td>F</td>\n",
       "      <td>1997</td>\n",
       "      <td>Stasiun Tebet - Karet Via Patra Kuningan</td>\n",
       "      <td>berangkaat</td>\n",
       "      <td>B01963P</td>\n",
       "      <td>Kemenkes 2</td>\n",
       "      <td>...</td>\n",
       "      <td>13</td>\n",
       "      <td>2023-04-03 05:42:44</td>\n",
       "      <td>B03307P</td>\n",
       "      <td>Sampoerna Strategic</td>\n",
       "      <td>-6.217152</td>\n",
       "      <td>106.81892</td>\n",
       "      <td>2023-04-03 06:40:01</td>\n",
       "      <td>3500.0</td>\n",
       "      <td>26</td>\n",
       "      <td>Adult</td>\n",
       "    </tr>\n",
       "    <tr>\n",
       "      <th>2</th>\n",
       "      <td>DJWR385V2U57TO</td>\n",
       "      <td>4996225095064169</td>\n",
       "      <td>dki</td>\n",
       "      <td>Emong Wastuti</td>\n",
       "      <td>F</td>\n",
       "      <td>1992</td>\n",
       "      <td>Pantai Maju - Kota</td>\n",
       "      <td>berangkaat</td>\n",
       "      <td>B00499P</td>\n",
       "      <td>Gg. Kunir II</td>\n",
       "      <td>...</td>\n",
       "      <td>38</td>\n",
       "      <td>2023-04-03 05:59:06</td>\n",
       "      <td>B04962P</td>\n",
       "      <td>Simpang Kunir Kemukus</td>\n",
       "      <td>-6.133731</td>\n",
       "      <td>106.81475</td>\n",
       "      <td>2023-04-03 06:50:55</td>\n",
       "      <td>3500.0</td>\n",
       "      <td>31</td>\n",
       "      <td>Adult</td>\n",
       "    </tr>\n",
       "    <tr>\n",
       "      <th>3</th>\n",
       "      <td>JTUZ800U7C86EH</td>\n",
       "      <td>639099174703</td>\n",
       "      <td>flazz</td>\n",
       "      <td>Surya Wacana</td>\n",
       "      <td>F</td>\n",
       "      <td>1978</td>\n",
       "      <td>Pulo Gebang - Pulo Gadung 2 Via Pik</td>\n",
       "      <td>berangkaat</td>\n",
       "      <td>B05587P</td>\n",
       "      <td>Taman Elok 1</td>\n",
       "      <td>...</td>\n",
       "      <td>23</td>\n",
       "      <td>2023-04-03 05:44:51</td>\n",
       "      <td>B03090P</td>\n",
       "      <td>Raya Penggilingan</td>\n",
       "      <td>-6.183068</td>\n",
       "      <td>106.93194</td>\n",
       "      <td>2023-04-03 06:28:16</td>\n",
       "      <td>3500.0</td>\n",
       "      <td>45</td>\n",
       "      <td>Pre-Senior</td>\n",
       "    </tr>\n",
       "    <tr>\n",
       "      <th>4</th>\n",
       "      <td>VMLO535V7F95NJ</td>\n",
       "      <td>570928206772</td>\n",
       "      <td>flazz</td>\n",
       "      <td>Embuh Mardhiyah</td>\n",
       "      <td>M</td>\n",
       "      <td>1982</td>\n",
       "      <td>Tanjung Priok - Pluit</td>\n",
       "      <td>berangkaat</td>\n",
       "      <td>P00239</td>\n",
       "      <td>Sunter Boulevard Barat</td>\n",
       "      <td>...</td>\n",
       "      <td>5</td>\n",
       "      <td>2023-04-03 06:17:35</td>\n",
       "      <td>P00098</td>\n",
       "      <td>Kali Besar Barat</td>\n",
       "      <td>-6.135355</td>\n",
       "      <td>106.81143</td>\n",
       "      <td>2023-04-03 06:57:03</td>\n",
       "      <td>3500.0</td>\n",
       "      <td>41</td>\n",
       "      <td>Pre-Senior</td>\n",
       "    </tr>\n",
       "  </tbody>\n",
       "</table>\n",
       "<p>5 rows × 22 columns</p>\n",
       "</div>"
      ],
      "text/plain": [
       "          transID         payCardID payCardBank      payCardName payCardSex  \\\n",
       "0  EIIW227B8L34VB   180062659848800      emoney   Bajragin Usada          M   \n",
       "1  LGXO740D2N47GZ  4885331907664776         dki     Gandi Widodo          F   \n",
       "2  DJWR385V2U57TO  4996225095064169         dki    Emong Wastuti          F   \n",
       "3  JTUZ800U7C86EH      639099174703       flazz     Surya Wacana          F   \n",
       "4  VMLO535V7F95NJ      570928206772       flazz  Embuh Mardhiyah          M   \n",
       "\n",
       "   payCardBirthDate                              corridorName   direction  \\\n",
       "0              2008                     Matraman Baru - Ancol      pulang   \n",
       "1              1997  Stasiun Tebet - Karet Via Patra Kuningan  berangkaat   \n",
       "2              1992                        Pantai Maju - Kota  berangkaat   \n",
       "3              1978       Pulo Gebang - Pulo Gadung 2 Via Pik  berangkaat   \n",
       "4              1982                     Tanjung Priok - Pluit  berangkaat   \n",
       "\n",
       "  tapInStops          tapInStopsName  ...  stopStartSeq           tapInTime  \\\n",
       "0     P00142               Pal Putih  ...             7 2023-04-03 05:21:44   \n",
       "1    B01963P              Kemenkes 2  ...            13 2023-04-03 05:42:44   \n",
       "2    B00499P            Gg. Kunir II  ...            38 2023-04-03 05:59:06   \n",
       "3    B05587P            Taman Elok 1  ...            23 2023-04-03 05:44:51   \n",
       "4     P00239  Sunter Boulevard Barat  ...             5 2023-04-03 06:17:35   \n",
       "\n",
       "   tapOutStops        tapOutStopsName tapOutStopsLat tapOutStopsLon  \\\n",
       "0       P00253                Tegalan      -6.203101      106.85715   \n",
       "1      B03307P    Sampoerna Strategic      -6.217152      106.81892   \n",
       "2      B04962P  Simpang Kunir Kemukus      -6.133731      106.81475   \n",
       "3      B03090P      Raya Penggilingan      -6.183068      106.93194   \n",
       "4       P00098       Kali Besar Barat      -6.135355      106.81143   \n",
       "\n",
       "           tapOutTime payAmount age    ageGroup  \n",
       "0 2023-04-03 06:00:53    3500.0  15       Child  \n",
       "1 2023-04-03 06:40:01    3500.0  26       Adult  \n",
       "2 2023-04-03 06:50:55    3500.0  31       Adult  \n",
       "3 2023-04-03 06:28:16    3500.0  45  Pre-Senior  \n",
       "4 2023-04-03 06:57:03    3500.0  41  Pre-Senior  \n",
       "\n",
       "[5 rows x 22 columns]"
      ]
     },
     "execution_count": 33,
     "metadata": {},
     "output_type": "execute_result"
    }
   ],
   "source": [
    "df_cleaned.head()"
   ]
  },
  {
   "cell_type": "code",
   "execution_count": 34,
   "id": "218765c9",
   "metadata": {},
   "outputs": [
    {
     "name": "stdout",
     "output_type": "stream",
     "text": [
      "<class 'pandas.core.frame.DataFrame'>\n",
      "RangeIndex: 37900 entries, 0 to 37899\n",
      "Data columns (total 22 columns):\n",
      " #   Column            Non-Null Count  Dtype         \n",
      "---  ------            --------------  -----         \n",
      " 0   transID           37900 non-null  object        \n",
      " 1   payCardID         37900 non-null  int64         \n",
      " 2   payCardBank       37900 non-null  object        \n",
      " 3   payCardName       37900 non-null  object        \n",
      " 4   payCardSex        37900 non-null  object        \n",
      " 5   payCardBirthDate  37900 non-null  int64         \n",
      " 6   corridorName      37900 non-null  object        \n",
      " 7   direction         37900 non-null  object        \n",
      " 8   tapInStops        37900 non-null  object        \n",
      " 9   tapInStopsName    37900 non-null  object        \n",
      " 10  tapInStopsLat     37900 non-null  float64       \n",
      " 11  tapInStopsLon     37900 non-null  float64       \n",
      " 12  stopStartSeq      37900 non-null  int64         \n",
      " 13  tapInTime         37900 non-null  datetime64[ns]\n",
      " 14  tapOutStops       37900 non-null  object        \n",
      " 15  tapOutStopsName   37900 non-null  object        \n",
      " 16  tapOutStopsLat    37900 non-null  object        \n",
      " 17  tapOutStopsLon    37900 non-null  object        \n",
      " 18  tapOutTime        36556 non-null  datetime64[ns]\n",
      " 19  payAmount         37900 non-null  float64       \n",
      " 20  age               37900 non-null  int64         \n",
      " 21  ageGroup          37900 non-null  category      \n",
      "dtypes: category(1), datetime64[ns](2), float64(3), int64(4), object(12)\n",
      "memory usage: 6.1+ MB\n"
     ]
    }
   ],
   "source": [
    "df_cleaned.info()"
   ]
  },
  {
   "cell_type": "markdown",
   "id": "06f2606c",
   "metadata": {},
   "source": [
    "Penambahan kolom baru supaya terlihat lebih rapih data yang kita punya"
   ]
  },
  {
   "cell_type": "code",
   "execution_count": 35,
   "id": "57c81867",
   "metadata": {},
   "outputs": [
    {
     "data": {
      "text/html": [
       "<div>\n",
       "<style scoped>\n",
       "    .dataframe tbody tr th:only-of-type {\n",
       "        vertical-align: middle;\n",
       "    }\n",
       "\n",
       "    .dataframe tbody tr th {\n",
       "        vertical-align: top;\n",
       "    }\n",
       "\n",
       "    .dataframe thead th {\n",
       "        text-align: right;\n",
       "    }\n",
       "</style>\n",
       "<table border=\"1\" class=\"dataframe\">\n",
       "  <thead>\n",
       "    <tr style=\"text-align: right;\">\n",
       "      <th></th>\n",
       "      <th>tapInHour</th>\n",
       "      <th>tapOutHour</th>\n",
       "      <th>tapInday</th>\n",
       "      <th>tapOutday</th>\n",
       "      <th>tapInWeek</th>\n",
       "      <th>tapOutWeek</th>\n",
       "      <th>tapInDate</th>\n",
       "      <th>tapOutDate</th>\n",
       "      <th>age</th>\n",
       "      <th>ageGroup</th>\n",
       "    </tr>\n",
       "  </thead>\n",
       "  <tbody>\n",
       "    <tr>\n",
       "      <th>0</th>\n",
       "      <td>5</td>\n",
       "      <td>6.0</td>\n",
       "      <td>Monday</td>\n",
       "      <td>Monday</td>\n",
       "      <td>14</td>\n",
       "      <td>14</td>\n",
       "      <td>2023-04-03</td>\n",
       "      <td>2023-04-03</td>\n",
       "      <td>15</td>\n",
       "      <td>Child</td>\n",
       "    </tr>\n",
       "    <tr>\n",
       "      <th>1</th>\n",
       "      <td>5</td>\n",
       "      <td>6.0</td>\n",
       "      <td>Monday</td>\n",
       "      <td>Monday</td>\n",
       "      <td>14</td>\n",
       "      <td>14</td>\n",
       "      <td>2023-04-03</td>\n",
       "      <td>2023-04-03</td>\n",
       "      <td>26</td>\n",
       "      <td>Adult</td>\n",
       "    </tr>\n",
       "    <tr>\n",
       "      <th>2</th>\n",
       "      <td>5</td>\n",
       "      <td>6.0</td>\n",
       "      <td>Monday</td>\n",
       "      <td>Monday</td>\n",
       "      <td>14</td>\n",
       "      <td>14</td>\n",
       "      <td>2023-04-03</td>\n",
       "      <td>2023-04-03</td>\n",
       "      <td>31</td>\n",
       "      <td>Adult</td>\n",
       "    </tr>\n",
       "    <tr>\n",
       "      <th>3</th>\n",
       "      <td>5</td>\n",
       "      <td>6.0</td>\n",
       "      <td>Monday</td>\n",
       "      <td>Monday</td>\n",
       "      <td>14</td>\n",
       "      <td>14</td>\n",
       "      <td>2023-04-03</td>\n",
       "      <td>2023-04-03</td>\n",
       "      <td>45</td>\n",
       "      <td>Pre-Senior</td>\n",
       "    </tr>\n",
       "    <tr>\n",
       "      <th>4</th>\n",
       "      <td>6</td>\n",
       "      <td>6.0</td>\n",
       "      <td>Monday</td>\n",
       "      <td>Monday</td>\n",
       "      <td>14</td>\n",
       "      <td>14</td>\n",
       "      <td>2023-04-03</td>\n",
       "      <td>2023-04-03</td>\n",
       "      <td>41</td>\n",
       "      <td>Pre-Senior</td>\n",
       "    </tr>\n",
       "  </tbody>\n",
       "</table>\n",
       "</div>"
      ],
      "text/plain": [
       "   tapInHour  tapOutHour tapInday tapOutday  tapInWeek  tapOutWeek  \\\n",
       "0          5         6.0   Monday    Monday         14          14   \n",
       "1          5         6.0   Monday    Monday         14          14   \n",
       "2          5         6.0   Monday    Monday         14          14   \n",
       "3          5         6.0   Monday    Monday         14          14   \n",
       "4          6         6.0   Monday    Monday         14          14   \n",
       "\n",
       "    tapInDate  tapOutDate  age    ageGroup  \n",
       "0  2023-04-03  2023-04-03   15       Child  \n",
       "1  2023-04-03  2023-04-03   26       Adult  \n",
       "2  2023-04-03  2023-04-03   31       Adult  \n",
       "3  2023-04-03  2023-04-03   45  Pre-Senior  \n",
       "4  2023-04-03  2023-04-03   41  Pre-Senior  "
      ]
     },
     "execution_count": 35,
     "metadata": {},
     "output_type": "execute_result"
    }
   ],
   "source": [
    "df_cleaned['tapInHour'] = df_cleaned['tapInTime'].dt.hour\n",
    "df_cleaned['tapOutHour'] = df_cleaned['tapOutTime'].dt.hour\n",
    "df_cleaned['tapInday'] = df_cleaned['tapInTime'].dt.day_name()\n",
    "df_cleaned['tapOutday'] = df_cleaned['tapOutTime'].dt.day_name()\n",
    "df_cleaned['tapInWeek'] = df_cleaned['tapInTime'].dt.isocalendar().week\n",
    "df_cleaned['tapOutWeek'] = df_cleaned['tapOutTime'].dt.isocalendar().week\n",
    "df_cleaned['tapInDate'] = df_cleaned['tapInTime'].dt.date\n",
    "df_cleaned['tapOutDate'] = df_cleaned['tapOutTime'].dt.date\n",
    "df_cleaned['age'] = df_cleaned['age']\n",
    "df_cleaned['ageGroup'] = df_cleaned['ageGroup']\n",
    "\n",
    "df_cleaned[['tapInHour', 'tapOutHour', 'tapInday', 'tapOutday', 'tapInWeek', 'tapOutWeek', 'tapInDate', 'tapOutDate', 'age', 'ageGroup']].head()"
   ]
  },
  {
   "cell_type": "markdown",
   "id": "9bdff8f8",
   "metadata": {},
   "source": [
    "Setelah berhasil menambahkan kolom, kita akan memperbarui file CSV kita lagi untuk yang terakhir kalinya\n",
    "\n",
    "(Agar dapat kita load langsung file final ini untuk visualisasi Tableau)"
   ]
  },
  {
   "cell_type": "code",
   "execution_count": 36,
   "id": "7eac0aa0",
   "metadata": {},
   "outputs": [],
   "source": [
    "# Simpan data yang telah dibersihkan dalam variabel baru\n",
    "data_lengkap = df_cleaned.copy()\n",
    "\n",
    "# Menyimpan data original ke CSV\n",
    "df_cleaned.to_csv('Transjakarta_Bersih.csv', index=False)\n",
    "\n",
    "# Menyimpan data yang telah dibersihkan ke CSV\n",
    "data_lengkap.to_csv('Transjakarta_lengkap.csv', index=False)"
   ]
  },
  {
   "cell_type": "markdown",
   "id": "454a11b2",
   "metadata": {},
   "source": [
    "#### Analisis Penggunaan Kartu Pembayaran Berdasarkan Bank"
   ]
  },
  {
   "cell_type": "code",
   "execution_count": 37,
   "id": "da3a54f2",
   "metadata": {},
   "outputs": [
    {
     "data": {
      "text/html": [
       "<div>\n",
       "<style scoped>\n",
       "    .dataframe tbody tr th:only-of-type {\n",
       "        vertical-align: middle;\n",
       "    }\n",
       "\n",
       "    .dataframe tbody tr th {\n",
       "        vertical-align: top;\n",
       "    }\n",
       "\n",
       "    .dataframe thead th {\n",
       "        text-align: right;\n",
       "    }\n",
       "</style>\n",
       "<table border=\"1\" class=\"dataframe\">\n",
       "  <thead>\n",
       "    <tr style=\"text-align: right;\">\n",
       "      <th></th>\n",
       "      <th>Bank</th>\n",
       "      <th>Transaction</th>\n",
       "    </tr>\n",
       "  </thead>\n",
       "  <tbody>\n",
       "    <tr>\n",
       "      <th>0</th>\n",
       "      <td>dki</td>\n",
       "      <td>18743</td>\n",
       "    </tr>\n",
       "    <tr>\n",
       "      <th>1</th>\n",
       "      <td>emoney</td>\n",
       "      <td>6866</td>\n",
       "    </tr>\n",
       "    <tr>\n",
       "      <th>2</th>\n",
       "      <td>brizzi</td>\n",
       "      <td>3531</td>\n",
       "    </tr>\n",
       "    <tr>\n",
       "      <th>3</th>\n",
       "      <td>flazz</td>\n",
       "      <td>3234</td>\n",
       "    </tr>\n",
       "    <tr>\n",
       "      <th>4</th>\n",
       "      <td>online</td>\n",
       "      <td>2869</td>\n",
       "    </tr>\n",
       "    <tr>\n",
       "      <th>5</th>\n",
       "      <td>bni</td>\n",
       "      <td>2657</td>\n",
       "    </tr>\n",
       "  </tbody>\n",
       "</table>\n",
       "</div>"
      ],
      "text/plain": [
       "     Bank  Transaction\n",
       "0     dki        18743\n",
       "1  emoney         6866\n",
       "2  brizzi         3531\n",
       "3   flazz         3234\n",
       "4  online         2869\n",
       "5     bni         2657"
      ]
     },
     "execution_count": 37,
     "metadata": {},
     "output_type": "execute_result"
    }
   ],
   "source": [
    "# menganalisis penggunaan kartu pembayaran customer\n",
    "pengguna = data_lengkap['payCardBank'].value_counts().reset_index()\n",
    "pengguna.columns = ['Bank', 'Transaction']\n",
    "\n",
    "pengguna"
   ]
  },
  {
   "cell_type": "code",
   "execution_count": 38,
   "id": "1bbbee44",
   "metadata": {},
   "outputs": [
    {
     "name": "stderr",
     "output_type": "stream",
     "text": [
      "C:\\Users\\Aufaa Zuhair\\AppData\\Local\\Temp\\ipykernel_13164\\1579134910.py:3: FutureWarning: \n",
      "\n",
      "Passing `palette` without assigning `hue` is deprecated and will be removed in v0.14.0. Assign the `y` variable to `hue` and set `legend=False` for the same effect.\n",
      "\n",
      "  sns.barplot(data = pengguna, x= 'Transaction', y = 'Bank', palette='magma')\n"
     ]
    },
    {
     "data": {
      "image/png": "[encoded data removed]",
      "text/plain": [
       "<Figure size 1000x600 with 1 Axes>"
      ]
     },
     "metadata": {},
     "output_type": "display_data"
    }
   ],
   "source": [
    "# visualisasi penggunaan kartu pembayaran per bank\n",
    "plt.figure(figsize=(10, 6))\n",
    "sns.barplot(data = pengguna, x= 'Transaction', y = 'Bank', palette='magma')\n",
    "plt.title('Penggunaan Kartu Pembayaran per Bank')\n",
    "plt.xlabel('Jumlah Transaksi')\n",
    "plt.ylabel('Bank')\n",
    "plt.show()"
   ]
  },
  {
   "cell_type": "markdown",
   "id": "a972649c",
   "metadata": {},
   "source": [
    "Terlihat dari pengguna transjakarta biasanya menggunakan bank untuk melakukan transaksi tarif kendaraan. dari hasil yang didapat bahwa banyak pengguna transjakarta menggunakan bank dki sebagai bentuk transaksi perjalanan"
   ]
  },
  {
   "cell_type": "code",
   "execution_count": 39,
   "id": "ffedb872",
   "metadata": {},
   "outputs": [
    {
     "data": {
      "text/html": [
       "<div>\n",
       "<style scoped>\n",
       "    .dataframe tbody tr th:only-of-type {\n",
       "        vertical-align: middle;\n",
       "    }\n",
       "\n",
       "    .dataframe tbody tr th {\n",
       "        vertical-align: top;\n",
       "    }\n",
       "\n",
       "    .dataframe thead th {\n",
       "        text-align: right;\n",
       "    }\n",
       "</style>\n",
       "<table border=\"1\" class=\"dataframe\">\n",
       "  <thead>\n",
       "    <tr style=\"text-align: right;\">\n",
       "      <th></th>\n",
       "      <th>Bank</th>\n",
       "      <th>TotalRevenue</th>\n",
       "    </tr>\n",
       "  </thead>\n",
       "  <tbody>\n",
       "    <tr>\n",
       "      <th>2</th>\n",
       "      <td>dki</td>\n",
       "      <td>46226500.0</td>\n",
       "    </tr>\n",
       "    <tr>\n",
       "      <th>3</th>\n",
       "      <td>emoney</td>\n",
       "      <td>21014000.0</td>\n",
       "    </tr>\n",
       "    <tr>\n",
       "      <th>1</th>\n",
       "      <td>brizzi</td>\n",
       "      <td>12384000.0</td>\n",
       "    </tr>\n",
       "    <tr>\n",
       "      <th>4</th>\n",
       "      <td>flazz</td>\n",
       "      <td>9323000.0</td>\n",
       "    </tr>\n",
       "    <tr>\n",
       "      <th>5</th>\n",
       "      <td>online</td>\n",
       "      <td>7352500.0</td>\n",
       "    </tr>\n",
       "    <tr>\n",
       "      <th>0</th>\n",
       "      <td>bni</td>\n",
       "      <td>6825000.0</td>\n",
       "    </tr>\n",
       "  </tbody>\n",
       "</table>\n",
       "</div>"
      ],
      "text/plain": [
       "     Bank  TotalRevenue\n",
       "2     dki    46226500.0\n",
       "3  emoney    21014000.0\n",
       "1  brizzi    12384000.0\n",
       "4   flazz     9323000.0\n",
       "5  online     7352500.0\n",
       "0     bni     6825000.0"
      ]
     },
     "execution_count": 39,
     "metadata": {},
     "output_type": "execute_result"
    }
   ],
   "source": [
    "# Melihat Revenue Bank\n",
    "revenue_bank = data_lengkap.groupby('payCardBank')['payAmount'].sum().reset_index()\n",
    "revenue_bank.columns = ['Bank', 'TotalRevenue']\n",
    "revenue_bank = revenue_bank.sort_values(by='TotalRevenue', ascending=False)\n",
    "\n",
    "revenue_bank"
   ]
  },
  {
   "cell_type": "code",
   "execution_count": 40,
   "id": "e3144a08",
   "metadata": {},
   "outputs": [
    {
     "name": "stderr",
     "output_type": "stream",
     "text": [
      "C:\\Users\\Aufaa Zuhair\\AppData\\Local\\Temp\\ipykernel_13164\\304822287.py:3: FutureWarning: \n",
      "\n",
      "Passing `palette` without assigning `hue` is deprecated and will be removed in v0.14.0. Assign the `y` variable to `hue` and set `legend=False` for the same effect.\n",
      "\n",
      "  sns.barplot(data = revenue_bank, x= 'TotalRevenue', y = 'Bank', palette='magma')\n"
     ]
    },
    {
     "data": {
      "image/png": "[encoded data removed]",
      "text/plain": [
       "<Figure size 1000x600 with 1 Axes>"
      ]
     },
     "metadata": {},
     "output_type": "display_data"
    }
   ],
   "source": [
    "# visualisasi revenue kartu pembayaran per bank\n",
    "plt.figure(figsize=(10, 6))\n",
    "sns.barplot(data = revenue_bank, x= 'TotalRevenue', y = 'Bank', palette='magma')\n",
    "plt.title('Revenue per Bank')\n",
    "plt.xlabel('Jumlah Revenue Bank')\n",
    "plt.ylabel('Bank')\n",
    "plt.show()"
   ]
  },
  {
   "cell_type": "markdown",
   "id": "d5f42aec",
   "metadata": {},
   "source": [
    "* Bank DKI muncul sebagai bank dengan jumlah transaksi terbanyak sekaligus penyumbang pendapatan tertinggi selama periode satu bulan. Fakta ini dapat dijadikan acuan dalam merancang strategi promosi atau kerja sama yang lebih intensif.\n",
    "\n",
    "* Beberapa metode pembayaran lain seperti e-money dari Bank Mandiri, Brizzi milik BRI, Flazz dari BCA, pembayaran digital seperti GoPay, serta TapCash dari BNI juga menunjukkan tingkat penggunaan yang cukup tinggi. Ini menandakan bahwa pengguna Transjakarta telah cukup terbiasa dan menerima sistem pembayaran non-tunai."
   ]
  },
  {
   "cell_type": "code",
   "execution_count": 41,
   "id": "b799f5c2",
   "metadata": {},
   "outputs": [
    {
     "data": {
      "image/png": "[encoded data removed]",
      "text/plain": [
       "<Figure size 800x800 with 1 Axes>"
      ]
     },
     "metadata": {},
     "output_type": "display_data"
    }
   ],
   "source": [
    "# melihat jumlah penumpang yang dikategorikan berdasarkan umur\n",
    "\n",
    "# memisahkan usia berdasarkan kelompok\n",
    "bins=[0, 18, 25, 40, 60, 100], \n",
    "labels=['Child', 'Teeneger', 'Adult', 'Pre-Senior', 'Senior']\n",
    "\n",
    "# jumlah pengguna per kelompok usia\n",
    "age_count = data_lengkap['ageGroup'].value_counts().sort_index()\n",
    "\n",
    "# pie chart\n",
    "plt.figure(figsize=(8, 8))\n",
    "plt.pie(age_count, labels=age_count.index, autopct='%1.1f%%', startangle=90)\n",
    "plt.title('Proporsi Kelompok Usia Pengguna Transjakarta')\n",
    "plt.axis('equal')  # Equal aspect ratio ensures that pie is drawn as a circle.\n",
    "plt.show()"
   ]
  },
  {
   "cell_type": "markdown",
   "id": "7c2dcc87",
   "metadata": {},
   "source": [
    "Dari hasil yang didapatkan menunjukan bahwa pengguna transjakarta paling banyak di kelompok adult sebesar 44.4% dari perseberan data. Kelompok tersebut berusia kisaran 26-40 tahun. Tetapi seiring bertambah nya usia maka semakin dikit pengguna transjakarta alesannya adalah terlihat dari kelompok pre-senior yang mengalami penurunan persentase jumlah penumpang."
   ]
  },
  {
   "cell_type": "code",
   "execution_count": 42,
   "id": "f168ea21",
   "metadata": {},
   "outputs": [
    {
     "name": "stderr",
     "output_type": "stream",
     "text": [
      "C:\\Users\\Aufaa Zuhair\\AppData\\Local\\Temp\\ipykernel_13164\\3644887878.py:2: FutureWarning: The default of observed=False is deprecated and will be changed to True in a future version of pandas. Pass observed=False to retain current behavior or observed=True to adopt the future default and silence this warning.\n",
      "  age_distribution = data_lengkap.groupby(['payCardBank', 'ageGroup']).size().unstack(fill_value=0)\n"
     ]
    },
    {
     "data": {
      "text/html": [
       "<div>\n",
       "<style scoped>\n",
       "    .dataframe tbody tr th:only-of-type {\n",
       "        vertical-align: middle;\n",
       "    }\n",
       "\n",
       "    .dataframe tbody tr th {\n",
       "        vertical-align: top;\n",
       "    }\n",
       "\n",
       "    .dataframe thead th {\n",
       "        text-align: right;\n",
       "    }\n",
       "</style>\n",
       "<table border=\"1\" class=\"dataframe\">\n",
       "  <thead>\n",
       "    <tr style=\"text-align: right;\">\n",
       "      <th>ageGroup</th>\n",
       "      <th>Child</th>\n",
       "      <th>Teeneger</th>\n",
       "      <th>Adult</th>\n",
       "      <th>Pre-Senior</th>\n",
       "      <th>Senior</th>\n",
       "    </tr>\n",
       "    <tr>\n",
       "      <th>payCardBank</th>\n",
       "      <th></th>\n",
       "      <th></th>\n",
       "      <th></th>\n",
       "      <th></th>\n",
       "      <th></th>\n",
       "    </tr>\n",
       "  </thead>\n",
       "  <tbody>\n",
       "    <tr>\n",
       "      <th>bni</th>\n",
       "      <td>542</td>\n",
       "      <td>415</td>\n",
       "      <td>1141</td>\n",
       "      <td>554</td>\n",
       "      <td>5</td>\n",
       "    </tr>\n",
       "    <tr>\n",
       "      <th>brizzi</th>\n",
       "      <td>505</td>\n",
       "      <td>446</td>\n",
       "      <td>1597</td>\n",
       "      <td>929</td>\n",
       "      <td>54</td>\n",
       "    </tr>\n",
       "    <tr>\n",
       "      <th>dki</th>\n",
       "      <td>2683</td>\n",
       "      <td>2786</td>\n",
       "      <td>8165</td>\n",
       "      <td>4628</td>\n",
       "      <td>481</td>\n",
       "    </tr>\n",
       "    <tr>\n",
       "      <th>emoney</th>\n",
       "      <td>1505</td>\n",
       "      <td>840</td>\n",
       "      <td>2853</td>\n",
       "      <td>1584</td>\n",
       "      <td>84</td>\n",
       "    </tr>\n",
       "    <tr>\n",
       "      <th>flazz</th>\n",
       "      <td>446</td>\n",
       "      <td>319</td>\n",
       "      <td>1677</td>\n",
       "      <td>700</td>\n",
       "      <td>92</td>\n",
       "    </tr>\n",
       "    <tr>\n",
       "      <th>online</th>\n",
       "      <td>442</td>\n",
       "      <td>297</td>\n",
       "      <td>1392</td>\n",
       "      <td>681</td>\n",
       "      <td>57</td>\n",
       "    </tr>\n",
       "  </tbody>\n",
       "</table>\n",
       "</div>"
      ],
      "text/plain": [
       "ageGroup     Child  Teeneger  Adult  Pre-Senior  Senior\n",
       "payCardBank                                            \n",
       "bni            542       415   1141         554       5\n",
       "brizzi         505       446   1597         929      54\n",
       "dki           2683      2786   8165        4628     481\n",
       "emoney        1505       840   2853        1584      84\n",
       "flazz          446       319   1677         700      92\n",
       "online         442       297   1392         681      57"
      ]
     },
     "execution_count": 42,
     "metadata": {},
     "output_type": "execute_result"
    }
   ],
   "source": [
    "# Memperbaiki penghitungan distribusi usia dan gender untuk setiap bank\n",
    "age_distribution = data_lengkap.groupby(['payCardBank', 'ageGroup']).size().unstack(fill_value=0)\n",
    "\n",
    "age_distribution"
   ]
  },
  {
   "cell_type": "code",
   "execution_count": 43,
   "id": "dff2f1cd",
   "metadata": {},
   "outputs": [
    {
     "data": {
      "text/plain": [
       "<Figure size 1400x800 with 0 Axes>"
      ]
     },
     "metadata": {},
     "output_type": "display_data"
    },
    {
     "data": {
      "image/png": "[encoded data removed]",
      "text/plain": [
       "<Figure size 640x480 with 1 Axes>"
      ]
     },
     "metadata": {},
     "output_type": "display_data"
    }
   ],
   "source": [
    "# Visualisasi distribusi usia pengguna per bank\n",
    "plt.figure(figsize=(14, 8))\n",
    "age_distribution.plot(kind='bar', stacked=True, colormap='icefire')\n",
    "plt.title('Distribusi Usia Pengguna per Bank')\n",
    "plt.xlabel('Bank')\n",
    "plt.ylabel('Jumlah Pengguna')\n",
    "plt.legend(title='Kelompok Usia')\n",
    "plt.show()"
   ]
  },
  {
   "cell_type": "markdown",
   "id": "4a2f290a",
   "metadata": {},
   "source": [
    "* Dominasi Bank DKI\n",
    "\n",
    "Bank DKI secara signifikan memiliki jumlah pengguna terbanyak dibanding bank lainnya di semua kelompok usia. Hal ini menunjukkan bahwa Bank DKI kemungkinan memiliki kerja sama atau integrasi yang kuat dengan sistem Transjakarta, atau menawarkan kemudahan akses dan promosi yang lebih menarik bagi pengguna transportasi publik.\n",
    "\n",
    "* Kelompok Usia Dewasa Mendominasi\n",
    "\n",
    "Kelompok usia Adult (dewasa) merupakan pengguna terbanyak di hampir semua jenis bank. Ini menandakan bahwa layanan Transjakarta banyak digunakan oleh kalangan usia produktif untuk aktivitas harian seperti bekerja atau kuliah.\n",
    "\n",
    "* Kelompok Pre-Senior dan Senior Juga Cukup Aktif di Bank DKI\n",
    "\n",
    "Terdapat representasi yang cukup besar dari kelompok Pre-Senior dan bahkan Senior di pengguna Bank DKI, dibandingkan bank lain. Hal ini bisa mengindikasikan bahwa DKI memiliki layanan atau akses yang lebih inklusif terhadap usia lanjut, mungkin melalui program subsidi atau kemudahan tertentu.\n",
    "\n",
    "* Penggunaan Kartu dari Bank Lain Cenderung Merata namun Rendah\n",
    "\n",
    "Bank seperti BNI, Brizzi, Emoney, Flazz, dan Online memiliki distribusi pengguna yang relatif merata antar kelompok usia, namun jumlahnya jauh lebih rendah dibanding DKI."
   ]
  },
  {
   "cell_type": "code",
   "execution_count": 44,
   "id": "74d32444",
   "metadata": {},
   "outputs": [
    {
     "data": {
      "text/html": [
       "<div>\n",
       "<style scoped>\n",
       "    .dataframe tbody tr th:only-of-type {\n",
       "        vertical-align: middle;\n",
       "    }\n",
       "\n",
       "    .dataframe tbody tr th {\n",
       "        vertical-align: top;\n",
       "    }\n",
       "\n",
       "    .dataframe thead th {\n",
       "        text-align: right;\n",
       "    }\n",
       "</style>\n",
       "<table border=\"1\" class=\"dataframe\">\n",
       "  <thead>\n",
       "    <tr style=\"text-align: right;\">\n",
       "      <th>payCardSex</th>\n",
       "      <th>F</th>\n",
       "      <th>M</th>\n",
       "    </tr>\n",
       "    <tr>\n",
       "      <th>payCardBank</th>\n",
       "      <th></th>\n",
       "      <th></th>\n",
       "    </tr>\n",
       "  </thead>\n",
       "  <tbody>\n",
       "    <tr>\n",
       "      <th>bni</th>\n",
       "      <td>1517</td>\n",
       "      <td>1140</td>\n",
       "    </tr>\n",
       "    <tr>\n",
       "      <th>brizzi</th>\n",
       "      <td>1820</td>\n",
       "      <td>1711</td>\n",
       "    </tr>\n",
       "    <tr>\n",
       "      <th>dki</th>\n",
       "      <td>9539</td>\n",
       "      <td>9204</td>\n",
       "    </tr>\n",
       "    <tr>\n",
       "      <th>emoney</th>\n",
       "      <td>4054</td>\n",
       "      <td>2812</td>\n",
       "    </tr>\n",
       "    <tr>\n",
       "      <th>flazz</th>\n",
       "      <td>1828</td>\n",
       "      <td>1406</td>\n",
       "    </tr>\n",
       "    <tr>\n",
       "      <th>online</th>\n",
       "      <td>1399</td>\n",
       "      <td>1470</td>\n",
       "    </tr>\n",
       "  </tbody>\n",
       "</table>\n",
       "</div>"
      ],
      "text/plain": [
       "payCardSex      F     M\n",
       "payCardBank            \n",
       "bni          1517  1140\n",
       "brizzi       1820  1711\n",
       "dki          9539  9204\n",
       "emoney       4054  2812\n",
       "flazz        1828  1406\n",
       "online       1399  1470"
      ]
     },
     "execution_count": 44,
     "metadata": {},
     "output_type": "execute_result"
    }
   ],
   "source": [
    "gender_distribution = data_lengkap.groupby(['payCardBank', 'payCardSex']).size().unstack(fill_value=0)\n",
    "gender_distribution"
   ]
  },
  {
   "cell_type": "code",
   "execution_count": 45,
   "id": "613f8a7d",
   "metadata": {},
   "outputs": [
    {
     "data": {
      "image/png": "[encoded data removed]",
      "text/plain": [
       "<Figure size 800x500 with 1 Axes>"
      ]
     },
     "metadata": {},
     "output_type": "display_data"
    },
    {
     "name": "stderr",
     "output_type": "stream",
     "text": [
      "C:\\Users\\Aufaa Zuhair\\AppData\\Local\\Temp\\ipykernel_13164\\2685973403.py:12: FutureWarning: \n",
      "\n",
      "Passing `palette` without assigning `hue` is deprecated and will be removed in v0.14.0. Assign the `x` variable to `hue` and set `legend=False` for the same effect.\n",
      "\n",
      "  sns.barplot(x=gender_counts.index, y=gender_counts.values, palette='pastel')\n"
     ]
    },
    {
     "data": {
      "image/png": "[encoded data removed]",
      "text/plain": [
       "<Figure size 800x500 with 1 Axes>"
      ]
     },
     "metadata": {},
     "output_type": "display_data"
    }
   ],
   "source": [
    "# Menghitung jumlah pengguna per gender\n",
    "gender_counts = data_lengkap['payCardSex'].value_counts()\n",
    "\n",
    "# Membuat visualisasi proporsi gender\n",
    "plt.figure(figsize=(8, 5))\n",
    "plt.pie(gender_counts, labels=gender_counts.index, autopct='%1.1f%%', startangle=140)\n",
    "plt.title('Proporsi Gender Pengguna Transjakarta')\n",
    "plt.show()\n",
    "\n",
    "# Alternatif: Membuat bar chart untuk distribusi gender\n",
    "plt.figure(figsize=(8, 5))\n",
    "sns.barplot(x=gender_counts.index, y=gender_counts.values, palette='pastel')\n",
    "plt.title('Distribusi Gender Pengguna Transjakarta')\n",
    "plt.xlabel('Gender')\n",
    "plt.ylabel('Jumlah Pengguna')\n",
    "plt.show()"
   ]
  },
  {
   "cell_type": "markdown",
   "id": "3e8ff391",
   "metadata": {},
   "source": [
    "* Perempuan Mendominasi Pengguna Transjakarta\n",
    "\n",
    "Dari diagram lingkaran dan barchart terlihat bahwa pengguna perempuan (F) memiliki proporsi lebih tinggi (53.2%) dibanding laki-laki (46.8%). Ini menunjukkan bahwa transportasi umum Transjakarta banyak dimanfaatkan oleh perempuan, yang mungkin menunjukkan persepsi kenyamanan dan keamanan yang cukup baik.\n",
    "\n",
    "* Selisih Tidak Terlalu Jauh, Namun Konsisten\n",
    "\n",
    "Meskipun selisihnya tidak ekstrem, tren ini cukup konsisten di dua jenis visualisasi, memperkuat validitas data bahwa perempuan sedikit lebih banyak menggunakan layanan ini dibandingkan laki-laki.\n",
    "\n",
    "* Relevansi untuk Kebijakan Inklusif Gender\n",
    "\n",
    "Informasi ini dapat menjadi dasar dalam merancang kebijakan layanan yang lebih ramah gender, seperti penyediaan ruang khusus perempuan, peningkatan keamanan di halte dan bus, serta kampanye sosial untuk mendukung perempuan dalam penggunaan transportasi umum."
   ]
  },
  {
   "cell_type": "code",
   "execution_count": 46,
   "id": "dd82d0f2",
   "metadata": {},
   "outputs": [
    {
     "data": {
      "text/plain": [
       "<Figure size 1000x600 with 0 Axes>"
      ]
     },
     "metadata": {},
     "output_type": "display_data"
    },
    {
     "data": {
      "image/png": "[encoded data removed]",
      "text/plain": [
       "<Figure size 640x480 with 1 Axes>"
      ]
     },
     "metadata": {},
     "output_type": "display_data"
    }
   ],
   "source": [
    "# Visualisasi distribusi gender pengguna per bank\n",
    "plt.figure(figsize=(10, 6))\n",
    "gender_distribution.plot(kind='bar', stacked=True, colormap='coolwarm')\n",
    "plt.title('Distribusi Gender Pengguna per Bank')\n",
    "plt.xlabel('Bank')\n",
    "plt.ylabel('Jumlah Pengguna')\n",
    "plt.legend(title='Gender')\n",
    "plt.show()"
   ]
  },
  {
   "cell_type": "code",
   "execution_count": 47,
   "id": "3b860d67",
   "metadata": {},
   "outputs": [
    {
     "data": {
      "text/plain": [
       "tapInHour\n",
       "5     3358\n",
       "6     5839\n",
       "7     2812\n",
       "8     2880\n",
       "9     2807\n",
       "10     299\n",
       "11     339\n",
       "12     337\n",
       "13     348\n",
       "14     181\n",
       "15     408\n",
       "16    3365\n",
       "17    5488\n",
       "18    2438\n",
       "19    2455\n",
       "20    2408\n",
       "21    2138\n",
       "Name: count, dtype: int64"
      ]
     },
     "execution_count": 47,
     "metadata": {},
     "output_type": "execute_result"
    }
   ],
   "source": [
    "# Menganalisis pola perjalanan customer: Jam dan Hari aktivitas pengguna\n",
    "hourly_activity = data_lengkap['tapInHour'].value_counts().sort_index()\n",
    "\n",
    "hourly_activity"
   ]
  },
  {
   "cell_type": "code",
   "execution_count": 48,
   "id": "1a3d5d0e",
   "metadata": {},
   "outputs": [
    {
     "data": {
      "image/png": "[encoded data removed]",
      "text/plain": [
       "<Figure size 1200x700 with 1 Axes>"
      ]
     },
     "metadata": {},
     "output_type": "display_data"
    }
   ],
   "source": [
    "# visualisasi aktivitas per jam\n",
    "plt.figure(figsize=(12, 7))\n",
    "sns.lineplot(data=hourly_activity, marker='o', color='red')\n",
    "plt.title('Aktivitas Perjalanan per Jam')\n",
    "plt.xlabel('Jam')\n",
    "plt.ylabel('Jumlah Aktivitas')\n",
    "plt.xticks(range(5, 22))  \n",
    "plt.grid(True)\n",
    "plt.show()"
   ]
  },
  {
   "cell_type": "markdown",
   "id": "c9df72ea",
   "metadata": {},
   "source": [
    "* Dua Puncak Aktivitas Utama (Jam Sibuk)\n",
    "\n",
    "Grafik menunjukkan dua lonjakan tajam pada pukul 06:00 dan 17:00, yang menandakan jam sibuk pagi dan sore. Ini konsisten dengan kebiasaan masyarakat yang memulai dan mengakhiri aktivitas kerja atau sekolah pada jam-jam tersebut."
   ]
  },
  {
   "cell_type": "code",
   "execution_count": 49,
   "id": "a0179070",
   "metadata": {},
   "outputs": [
    {
     "data": {
      "text/plain": [
       "tapInday\n",
       "Friday       6851\n",
       "Wednesday    6840\n",
       "Monday       6838\n",
       "Tuesday      6835\n",
       "Thursday     6834\n",
       "Sunday       1872\n",
       "Saturday     1830\n",
       "Name: count, dtype: int64"
      ]
     },
     "execution_count": 49,
     "metadata": {},
     "output_type": "execute_result"
    }
   ],
   "source": [
    "daily_activity = data_lengkap['tapInday'].value_counts()\n",
    "\n",
    "daily_activity"
   ]
  },
  {
   "cell_type": "code",
   "execution_count": 50,
   "id": "b382c294",
   "metadata": {},
   "outputs": [
    {
     "name": "stderr",
     "output_type": "stream",
     "text": [
      "C:\\Users\\Aufaa Zuhair\\AppData\\Local\\Temp\\ipykernel_13164\\3614304022.py:4: FutureWarning: \n",
      "\n",
      "Passing `palette` without assigning `hue` is deprecated and will be removed in v0.14.0. Assign the `x` variable to `hue` and set `legend=False` for the same effect.\n",
      "\n",
      "  sns.barplot(x=daily_activity.index, y=daily_activity.values, palette='autumn')\n"
     ]
    },
    {
     "data": {
      "image/png": "[encoded data removed]",
      "text/plain": [
       "<Figure size 1000x600 with 1 Axes>"
      ]
     },
     "metadata": {},
     "output_type": "display_data"
    }
   ],
   "source": [
    "# visualisasi aktivitas per hari\n",
    "plt.figure(figsize=(10, 6))\n",
    "daily_activity = daily_activity.reindex([\"Monday\", \"Tuesday\", \"Wednesday\", \"Thursday\", \"Friday\", \"Saturday\", \"Sunday\"])\n",
    "sns.barplot(x=daily_activity.index, y=daily_activity.values, palette='autumn')\n",
    "plt.title('Aktivitas Perjalanan per Hari')\n",
    "plt.xlabel('Hari')\n",
    "plt.ylabel('Jumlah Aktivitas')\n",
    "plt.show()"
   ]
  },
  {
   "cell_type": "markdown",
   "id": "97a4618e",
   "metadata": {},
   "source": [
    "* Hari Kerja Mendominasi Aktivitas\n",
    "\n",
    "Aktivitas perjalanan dengan Transjakarta mencapai puncaknya secara konsisten dari Senin hingga Jumat, dengan volume yang hampir setara setiap hari. Hal ini menunjukkan bahwa layanan Transjakarta sangat bergantung pada mobilitas rutin para pekerja dan pelajar selama hari kerja.\n",
    "\n",
    "* Stabilitas Tinggi Selama Weekdays\n",
    "\n",
    "Aktivitas yang relatif seimbang dari Senin hingga Jumat menunjukkan konsistensi dalam pola penggunaan harian, yang penting untuk perencanaan kapasitas dan operasional armada secara efisien."
   ]
  },
  {
   "cell_type": "code",
   "execution_count": 51,
   "id": "f7d69ba3",
   "metadata": {},
   "outputs": [
    {
     "data": {
      "image/png": "[encoded data removed]",
      "text/plain": [
       "<Figure size 1000x600 with 1 Axes>"
      ]
     },
     "metadata": {},
     "output_type": "display_data"
    }
   ],
   "source": [
    "# Pisahkan data yang memiliki dan tidak memiliki tapOutTime\n",
    "tapout_filled = data_lengkap[data_lengkap['tapOutTime'].notna()]\n",
    "tapout_missing = df[df['tapOutTime'].isna()]\n",
    "\n",
    "plt.figure(figsize=(10, 6))\n",
    "sns.kdeplot(tapout_filled['payAmount'], label='Dengan tapOutTime', fill=True)\n",
    "sns.kdeplot(tapout_missing['payAmount'], label='Tanpa tapOutTime', fill=True)\n",
    "plt.title('Distribusi payAmount berdasarkan ketersediaan tapOutTime')\n",
    "plt.xlabel('payAmount')\n",
    "plt.ylabel('Kepadatan')\n",
    "plt.legend()\n",
    "plt.grid(True)\n",
    "plt.show()\n",
    "\n",
    "data_lengkap['tapOutStatus'] = data_lengkap['tapOutTime'].apply(lambda x: 'Ada' if pd.notna(x) else 'Tidak Ada')\n",
    "\n"
   ]
  },
  {
   "cell_type": "markdown",
   "id": "5d3d1c78",
   "metadata": {},
   "source": [
    "Distribusi kedua kelompok (dengan dan tanpa tapOutTime) secara umum mirip, yang berarti bahwa keberadaan data tapOutTime tidak terlalu memengaruhi pola tarif secara drastis. Namun, grafik menunjukkan bahwa pengguna dengan tapOutTime cenderung lebih terpusat pada tarif tertentu, khususnya pada puncak kedua (±Rp 3.000), dibandingkan pengguna tanpa tapOutTime."
   ]
  },
  {
   "cell_type": "markdown",
   "id": "067a58e6",
   "metadata": {},
   "source": [
    "## Kesimpulan dan Saran"
   ]
  },
  {
   "cell_type": "markdown",
   "id": "8939647f",
   "metadata": {},
   "source": [
    "### Kesimpulan\n",
    "\n",
    "1. Aktivitas Perjalanan Harian\n",
    "* Aktivitas perjalanan tertinggi terjadi pada hari kerja (Senin–Jumat), dan cenderung stabil dari Senin hingga Jumat (~6800 aktivitas).\n",
    "\n",
    "* Aktivitas menurun drastis pada akhir pekan (Sabtu–Minggu) dengan hanya sekitar 1800-an aktivitas.\n",
    "\n",
    "2. Distribusi payAmount Berdasarkan tapOutTime\n",
    "* Pengguna dengan data tapOutTime memiliki distribusi pembayaran yang lebih terfokus dan stabil, dengan dua puncak kepadatan sekitar 3000 dan 20.000.\n",
    "\n",
    "* Pengguna tanpa tapOutTime memiliki distribusi yang lebih menyebar, mengindikasikan variasi pembayaran lebih besar dan kurang terstruktur.\n",
    "\n",
    "3. Penggunaan Kartu Pembayaran per Bank\n",
    "* Bank DKI mendominasi dengan jumlah transaksi tertinggi, diikuti oleh eMoney dan Brizzi.\n",
    "\n",
    "* BNI memiliki jumlah transaksi terendah di antara seluruh metode pembayaran.\n",
    "\n",
    "4. Revenue per Bank\n",
    "* Bank DKI juga mendominasi revenue dengan nilai tertinggi secara signifikan (~Rp 44 juta), diikuti oleh eMoney dan Brizzi.\n",
    "\n",
    "* Bank dengan volume transaksi lebih rendah (seperti BNI dan online) juga memiliki revenue yang rendah.\n",
    "\n"
   ]
  },
  {
   "cell_type": "markdown",
   "id": "e7677916",
   "metadata": {},
   "source": [
    "### Saran"
   ]
  },
  {
   "cell_type": "markdown",
   "id": "bdf45a09",
   "metadata": {},
   "source": [
    "1. Peningkatan Layanan di Hari Kerja\n",
    "* Fokuskan perbaikan dan optimalisasi layanan transportasi di hari kerja, karena inilah puncak aktivitas pengguna.\n",
    "\n",
    "* Evaluasi kebutuhan armada dan personel tambahan untuk Senin–Jumat.\n",
    "\n",
    "2. Pemanfaatan Data tapOutTime\n",
    "* Tingkatkan edukasi dan sistem untuk memastikan pengguna melakukan tap out, karena data ini penting dalam memahami perilaku perjalanan dan segmentasi tarif.\n",
    "\n",
    "* Perlu analisis lebih lanjut untuk pengguna tanpa tapOutTime, karena mereka menunjukkan pola pembayaran yang lebih variatif dan berisiko.\n",
    "\n",
    "3. Strategi Kemitraan dan Promosi Bank\n",
    "* Perluasan kerja sama dan promosi dengan bank di luar DKI, seperti BNI dan online payment, untuk mendorong peningkatan penggunaan.\n",
    "\n",
    "* Bank seperti BNI memiliki potensi pertumbuhan karena masih rendahnya volume dan revenue.\n",
    "\n",
    "4. Analisis Lanjutan Tarif dan Segmentasi\n",
    "* Melihat distribusi payAmount, ada kemungkinan tarif terlalu beragam. Perlu kajian tarif yang lebih optimal agar menciptakan kejelasan dan efisiensi.\n",
    "\n",
    "5. Optimalisasi Pendapatan\n",
    "* Meskipun DKI mendominasi, bank lain masih bisa ditingkatkan kontribusinya dengan promosi, cashback, atau integrasi layanan.\n",
    "\n",
    "* Buat kebijakan insentif berdasarkan volume transaksi atau reward points untuk pengguna e-money tertentu."
   ]
  }
 ],
 "metadata": {
  "kernelspec": {
   "display_name": "Python 3",
   "language": "python",
   "name": "python3"
  },
  "language_info": {
   "codemirror_mode": {
    "name": "ipython",
    "version": 3
   },
   "file_extension": ".py",
   "mimetype": "text/x-python",
   "name": "python",
   "nbconvert_exporter": "python",
   "pygments_lexer": "ipython3",
   "version": "3.13.3"
  }
 },
 "nbformat": 4,
 "nbformat_minor": 5
}
